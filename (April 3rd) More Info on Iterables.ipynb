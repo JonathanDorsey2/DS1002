{
  "cells": [
    {
      "cell_type": "markdown",
      "metadata": {
        "id": "view-in-github",
        "colab_type": "text"
      },
      "source": [
        "<a href=\"https://colab.research.google.com/github/JonathanDorsey2/DS1002/blob/main/(April%203rd)%20More%20Info%20on%20Iterables.ipynb\" target=\"_parent\"><img src=\"https://colab.research.google.com/assets/colab-badge.svg\" alt=\"Open In Colab\"/></a>"
      ]
    },
    {
      "cell_type": "markdown",
      "metadata": {
        "id": "Ls2EwXAaJxYO"
      },
      "source": [
        "## Iterables and Iterators\n",
        "\n",
        "\n",
        "### University of Virginia\n",
        "### DS 1002: Programming for Data Science\n",
        "---  \n",
        "\n",
        "### PREREQUISITES\n",
        "- data types\n",
        "- variables:\n",
        "- `for` loop\n",
        "\n",
        "### SOURCES\n",
        "- Iterable objects  \n",
        "http://tutorial.eyehunts.com/python/python-iterable-object-lists-tuples-dictionaries-and-sets/\n",
        "\n",
        "\n",
        "- Iterators  \n",
        "https://www.geeksforgeeks.org/iterators-in-python/\n",
        "\n",
        "\n",
        "### OBJECTIVES\n",
        "- Define iterables and iterators\n",
        "- Using two methods, show how iterators can be used to return data from sets, lists, strings, tuples, dicts:\n",
        "  - **`for` loops**    \n",
        "  - **`iter()` and `next()`**\n",
        "\n",
        "\n",
        "\n",
        "### CONCEPTS\n",
        "\n",
        "- `iterable objects` or `iterables`\n",
        "- iterators\n",
        "- iteration\n",
        "- sequence\n",
        "- collection\n",
        "\n",
        "\n",
        "---\n",
        "\n",
        "## I. Defining Iterables and Iterators\n",
        "\n",
        "##**`Iterable objects` or `iterables` can return elements one at a time**\n",
        "      *Example: Sets, Tuples, Dictionaries, Lists*\n",
        "\n",
        "##**An `iterator` is an object that iterates over iterable objects such as sets, lists, tuples, dictionaries, and strings**  \n",
        "\n",
        "`Iteration` can be implemented:\n",
        "- **with a `for` loop**\n",
        "- **with the `next()` method**\n",
        "\n"
      ]
    },
    {
      "cell_type": "markdown",
      "metadata": {
        "id": "kXJiIhR3JxYP"
      },
      "source": [
        "## II. Miscellaneous\n",
        "\n",
        "- Other useful tools for iterating\n",
        "\n",
        "##**Ranges:**\n",
        "\n",
        "If you just want to iterate for a known number of times, use `range()`"
      ]
    },
    {
      "cell_type": "code",
      "execution_count": 3,
      "metadata": {
        "id": "rt_o9y-WJxYP",
        "outputId": "748f2638-57be-43bb-8227-881b91647864",
        "colab": {
          "base_uri": "https://localhost:8080/"
        }
      },
      "outputs": [
        {
          "output_type": "stream",
          "name": "stdout",
          "text": [
            "01 |\n",
            "02 ||||\n",
            "03 |||||||||\n",
            "04 ||||||||||||||||\n",
            "05 |||||||||||||||||||||||||\n",
            "06 ||||||||||||||||||||||||||||||||||||\n",
            "07 |||||||||||||||||||||||||||||||||||||||||||||||||\n",
            "08 ||||||||||||||||||||||||||||||||||||||||||||||||||||||||||||||||\n",
            "09 |||||||||||||||||||||||||||||||||||||||||||||||||||||||||||||||||||||||||||||||||\n",
            "10 ||||||||||||||||||||||||||||||||||||||||||||||||||||||||||||||||||||||||||||||||||||||||||||||||||||\n"
          ]
        }
      ],
      "source": [
        "for i in range(10) :\n",
        "    print(str(i+1).zfill(2), (i+1)**2* '|')     #zfill will fill a string with zeros until values are specified"
      ]
    },
    {
      "cell_type": "markdown",
      "metadata": {
        "id": "MGNlj7EMJxYQ"
      },
      "source": [
        "##`zfill()` adds zeros to the front of a string until the it reaches the specified length##"
      ]
    },
    {
      "cell_type": "markdown",
      "metadata": {
        "id": "EicBwA6GJxYQ"
      },
      "source": [
        "##**Formatted String Literals (i.e. f-strings)**\n",
        "\n",
        "Also called “formatted string literals,” f-strings are string literals that have an f at the beginning and curly braces containing expressions that will be replaced with their values. The expressions are evaluated at runtime and then formatted using the `__format__` protocol.\n",
        "\n",
        "Example:"
      ]
    },
    {
      "cell_type": "code",
      "execution_count": 4,
      "metadata": {
        "id": "_iFsJoSeJxYQ",
        "outputId": "2c01f53b-fad2-4954-c1e9-084304b554ed",
        "colab": {
          "base_uri": "https://localhost:8080/",
          "height": 35
        }
      },
      "outputs": [
        {
          "output_type": "execute_result",
          "data": {
            "text/plain": [
              "'Hello, Ted Lasso. You are 42.'"
            ],
            "application/vnd.google.colaboratory.intrinsic+json": {
              "type": "string"
            }
          },
          "metadata": {},
          "execution_count": 4
        }
      ],
      "source": [
        "name = 'Ted Lasso'\n",
        "age = 42\n",
        "\n",
        "f\"Hello, {name}. You are {age}.\"    #The {} denotes a dictionary or a set"
      ]
    },
    {
      "cell_type": "markdown",
      "metadata": {
        "id": "k5-JqSp-JxYR"
      },
      "source": [
        "##**Enumerate(  )**\n",
        "**Get iteration number**  \n",
        "\n",
        "Often you will want to know what iteration number you are in the loop, use `enumerate()`  \n",
        "\n",
        "`enumerate()` returns the index and key for each iteration. USUALLY DICTIONARIES\n",
        "\n",
        "###**Enumerate( ) outputs a tuple in this format:    ( x , y )**"
      ]
    },
    {
      "cell_type": "code",
      "source": [
        "ff_teams = {'NCSU' : 3, 'Iowa' : 1, 'South Carolina' : 1, 'Connecticut': 3}\n",
        "\n",
        "print(enumerate(ff_teams))     #enumerate is an object that contains a bunch of tuples\n",
        "\n",
        "print(type(enumerate(ff_teams)))\n",
        "for x in enumerate(ff_teams):\n",
        "  print (type(x))\n",
        "list(enumerate(ff_teams))\n",
        "\n"
      ],
      "metadata": {
        "id": "fgPJ4uKkLKcm",
        "outputId": "9f86f1e1-ee40-4b4a-dcf5-2c353f238c7e",
        "colab": {
          "base_uri": "https://localhost:8080/"
        }
      },
      "execution_count": 8,
      "outputs": [
        {
          "output_type": "stream",
          "name": "stdout",
          "text": [
            "<enumerate object at 0x78d566651940>\n",
            "<class 'enumerate'>\n",
            "<class 'tuple'>\n",
            "<class 'tuple'>\n",
            "<class 'tuple'>\n",
            "<class 'tuple'>\n"
          ]
        },
        {
          "output_type": "execute_result",
          "data": {
            "text/plain": [
              "[(0, 'NCSU'), (1, 'Iowa'), (2, 'South Carolina'), (3, 'Connecticut')]"
            ]
          },
          "metadata": {},
          "execution_count": 8
        }
      ]
    },
    {
      "cell_type": "code",
      "execution_count": 9,
      "metadata": {
        "id": "gbs3eOYfJxYR",
        "outputId": "9427e4b2-707b-40fe-ae48-e2d59ed62467",
        "colab": {
          "base_uri": "https://localhost:8080/"
        }
      },
      "outputs": [
        {
          "output_type": "stream",
          "name": "stdout",
          "text": [
            "School:  NCSU \t Seed: 3\n",
            "School:  Iowa \t Seed: 1\n",
            "School:  South Carolina \t Seed: 1\n",
            "School:  Connecticut \t Seed: 3\n",
            "--------------------------------------------------\n",
            "00_NCSU: \t Seed: 3\n",
            "01_Iowa: \t Seed: 1\n",
            "02_South Carolina: \t Seed: 1\n",
            "03_Connecticut: \t Seed: 3\n"
          ]
        }
      ],
      "source": [
        "for school in ff_teams:\n",
        "  print(f\"School:  {school} \\t Seed: {ff_teams[school]}\")\n",
        "\n",
        "print(50*'-')\n",
        "\n",
        "for i, school in enumerate(ff_teams) :    #This for loop has multiple variables and loops through multiple lists: school and i\n",
        "   school_name = f\"{str(i).zfill(2)}_{school}: \\t Seed: {ff_teams[school]}\"     #/t == tab\n",
        "   print(school_name)"
      ]
    },
    {
      "cell_type": "markdown",
      "metadata": {
        "id": "RPtes3DRJxYS"
      },
      "source": [
        "## III. Sequences and Collections\n",
        "\n",
        "- Iterables: `list [ ]`, `str`, `tuple ( )`, `set { }`, `dict { : }`\n",
        "\n",
        "- Lists, tuples, dictionaries, and strings are `sequences`. Sequences are designed so that elements come out of them in the same order they were put in.\n",
        "\n",
        "- Sets are not sequences, since they don't keep elements in order.\n",
        "They are called `collections`.  The ordering of the items is arbitrary.\n",
        "\n",
        "- NOTE: This has changed for dictionaries in Python 3.7:  \n",
        "\n",
        "- > the insertion-order preservation nature of dict objects has been declared to be an official part of the Python language spec.\\\n",
        "-- [What's New in Python 3.7](https://docs.python.org/3.7/whatsnew/3.7.html)"
      ]
    },
    {
      "cell_type": "markdown",
      "metadata": {
        "id": "q-X5D4ndJxYS"
      },
      "source": [
        "## IV. Lists"
      ]
    },
    {
      "cell_type": "markdown",
      "metadata": {
        "id": "_1sLABrCJxYS"
      },
      "source": [
        "##**iterating using `for`**"
      ]
    },
    {
      "cell_type": "code",
      "execution_count": 14,
      "metadata": {
        "id": "byytUDkzJxYS",
        "outputId": "668758a0-c8f1-4726-b95f-8eddf95924b2",
        "colab": {
          "base_uri": "https://localhost:8080/"
        }
      },
      "outputs": [
        {
          "output_type": "stream",
          "name": "stdout",
          "text": [
            "living room\n",
            "was\n",
            "quite\n",
            "large\n"
          ]
        }
      ],
      "source": [
        "tokens = ['living room','was','quite','large']\n",
        "\n",
        "for tok in tokens:\n",
        "    print(tok)"
      ]
    },
    {
      "cell_type": "markdown",
      "metadata": {
        "id": "YE_aYxhTJxYS"
      },
      "source": [
        "##**iterating using `iter()` and `next()`**\n",
        "\n",
        "###`iter()` - gets an iterator. Outputs a value each time it is used.\n",
        "`next()` - gets the next item from the iterator**"
      ]
    },
    {
      "cell_type": "code",
      "execution_count": 15,
      "metadata": {
        "id": "9Xp1AciFJxYS",
        "outputId": "8a4bfef3-b771-41ba-b81f-631843d9da66",
        "colab": {
          "base_uri": "https://localhost:8080/"
        }
      },
      "outputs": [
        {
          "output_type": "stream",
          "name": "stdout",
          "text": [
            "living room\n",
            "was\n",
            "quite\n",
            "large\n"
          ]
        }
      ],
      "source": [
        "tokens = ['living room','was','quite','large']\n",
        "\n",
        "myit = iter(tokens)\n",
        "print(next(myit))\n",
        "print(next(myit))\n",
        "print(next(myit))\n",
        "print(next(myit))"
      ]
    },
    {
      "cell_type": "markdown",
      "metadata": {
        "id": "WAMcotkKJxYS"
      },
      "source": [
        "Calling `next()` when the iterator has reached the end of the list produces an exception:"
      ]
    },
    {
      "cell_type": "code",
      "execution_count": 17,
      "metadata": {
        "id": "uLIx47e6JxYS",
        "outputId": "0f5cea64-c164-49b2-fbc8-5cfe71cef1ba",
        "colab": {
          "base_uri": "https://localhost:8080/"
        }
      },
      "outputs": [
        {
          "output_type": "execute_result",
          "data": {
            "text/plain": [
              "list_iterator"
            ]
          },
          "metadata": {},
          "execution_count": 17
        }
      ],
      "source": [
        "#print(next(myit))\n",
        "type(myit)      #Type is list_iterator"
      ]
    },
    {
      "cell_type": "markdown",
      "metadata": {
        "id": "meYbNT6oJxYS"
      },
      "source": [
        "Next, look at the type of the iterator, and the documentation"
      ]
    },
    {
      "cell_type": "code",
      "execution_count": null,
      "metadata": {
        "id": "wHT28_luJxYT"
      },
      "outputs": [],
      "source": [
        "type(myit)"
      ]
    },
    {
      "cell_type": "code",
      "execution_count": 18,
      "metadata": {
        "scrolled": true,
        "id": "cjKX16t7JxYT",
        "outputId": "17df3a5f-74c2-4348-d26e-192e71f3c6ae",
        "colab": {
          "base_uri": "https://localhost:8080/"
        }
      },
      "outputs": [
        {
          "output_type": "stream",
          "name": "stdout",
          "text": [
            "Help on list_iterator object:\n",
            "\n",
            "class list_iterator(object)\n",
            " |  Methods defined here:\n",
            " |  \n",
            " |  __getattribute__(self, name, /)\n",
            " |      Return getattr(self, name).\n",
            " |  \n",
            " |  __iter__(self, /)\n",
            " |      Implement iter(self).\n",
            " |  \n",
            " |  __length_hint__(...)\n",
            " |      Private method returning an estimate of len(list(it)).\n",
            " |  \n",
            " |  __next__(self, /)\n",
            " |      Implement next(self).\n",
            " |  \n",
            " |  __reduce__(...)\n",
            " |      Return state information for pickling.\n",
            " |  \n",
            " |  __setstate__(...)\n",
            " |      Set state information for unpickling.\n",
            "\n"
          ]
        }
      ],
      "source": [
        "help(myit)"
      ]
    },
    {
      "cell_type": "code",
      "execution_count": 19,
      "metadata": {
        "id": "c5E2vIrQJxYT",
        "outputId": "74657d8f-13c7-4538-edbd-43feb9a1ed2b",
        "colab": {
          "base_uri": "https://localhost:8080/"
        }
      },
      "outputs": [
        {
          "output_type": "stream",
          "name": "stdout",
          "text": [
            "Help on built-in function next in module builtins:\n",
            "\n",
            "next(...)\n",
            "    next(iterator[, default])\n",
            "    \n",
            "    Return the next item from the iterator. If default is given and the iterator\n",
            "    is exhausted, it is returned instead of raising StopIteration.\n",
            "\n"
          ]
        }
      ],
      "source": [
        "help(next)"
      ]
    },
    {
      "cell_type": "markdown",
      "metadata": {
        "id": "UIXACk7fJxYT"
      },
      "source": [
        "**Note that `for` implicitly creates an iterator and executes `next()` on each loop iteration. This is best way to iterate through a list-like object.**"
      ]
    },
    {
      "cell_type": "markdown",
      "metadata": {
        "id": "YtyUu7bvJxYT"
      },
      "source": [
        "## V. Strings"
      ]
    },
    {
      "cell_type": "markdown",
      "metadata": {
        "id": "lMhH8bWmJxYT"
      },
      "source": [
        "##**iterating using `for`**\n",
        "###**The for loop goes through 1 character at a time!**"
      ]
    },
    {
      "cell_type": "code",
      "execution_count": 22,
      "metadata": {
        "id": "yMYWzgllJxYT",
        "outputId": "acbc40b0-099a-48c2-f469-4ddde38d3d3d",
        "colab": {
          "base_uri": "https://localhost:8080/"
        }
      },
      "outputs": [
        {
          "output_type": "stream",
          "name": "stdout",
          "text": [
            "d\n",
            "a\n",
            "t\n",
            "u\n",
            "m\n"
          ]
        }
      ],
      "source": [
        "strn = 'datum'\n",
        "\n",
        "for s in strn:\n",
        "    print(s)"
      ]
    },
    {
      "cell_type": "markdown",
      "metadata": {
        "id": "rsyO8tMfJxYU"
      },
      "source": [
        "###**iterating using `iter()` and `next()`**"
      ]
    },
    {
      "cell_type": "code",
      "execution_count": 23,
      "metadata": {
        "id": "8QRuj3_9JxYU",
        "outputId": "aa73e9ba-8ffb-483f-f157-d2a252b6aab6",
        "colab": {
          "base_uri": "https://localhost:8080/"
        }
      },
      "outputs": [
        {
          "output_type": "stream",
          "name": "stdout",
          "text": [
            "d\n",
            "a\n",
            "t\n",
            "u\n"
          ]
        }
      ],
      "source": [
        "st = iter(strn)\n",
        "\n",
        "print(next(st))\n",
        "print(next(st))\n",
        "print(next(st))\n",
        "print(next(st))"
      ]
    },
    {
      "cell_type": "markdown",
      "metadata": {
        "id": "hDF7SQw8JxYU"
      },
      "source": [
        "## VI. Tuples"
      ]
    },
    {
      "cell_type": "markdown",
      "metadata": {
        "id": "oFBT99gaJxYU"
      },
      "source": [
        "###**iterating using `for` loop**"
      ]
    },
    {
      "cell_type": "code",
      "execution_count": 24,
      "metadata": {
        "id": "BgEMEu11JxYU",
        "outputId": "e2ffd560-08df-4ac5-ab92-c7b9a14ae02b",
        "colab": {
          "base_uri": "https://localhost:8080/"
        }
      },
      "outputs": [
        {
          "output_type": "stream",
          "name": "stdout",
          "text": [
            "auc\n",
            "recall\n",
            "precision\n",
            "support\n"
          ]
        }
      ],
      "source": [
        "metrics = ('auc','recall','precision','support')\n",
        "\n",
        "for met in metrics:\n",
        "    print(met)"
      ]
    },
    {
      "cell_type": "markdown",
      "metadata": {
        "id": "jhs7i2KKJxYU"
      },
      "source": [
        "###**iterating using `iter()` and `next()`**"
      ]
    },
    {
      "cell_type": "code",
      "execution_count": 25,
      "metadata": {
        "id": "uWR6PyM5JxYU",
        "outputId": "275ebddb-2d3b-47c2-eb95-a43e50e08d23",
        "colab": {
          "base_uri": "https://localhost:8080/"
        }
      },
      "outputs": [
        {
          "output_type": "stream",
          "name": "stdout",
          "text": [
            "auc\n",
            "recall\n",
            "precision\n",
            "support\n"
          ]
        }
      ],
      "source": [
        "metrics = ('auc','recall','precision','support')\n",
        "\n",
        "tup_metrics = iter(metrics)\n",
        "print(next(tup_metrics))\n",
        "print(next(tup_metrics))\n",
        "print(next(tup_metrics))\n",
        "print(next(tup_metrics))"
      ]
    },
    {
      "cell_type": "markdown",
      "source": [
        "###**`break` and `continue`**\n",
        "The BREAK command will exit you out of the FOR LOOP.\n",
        "\n",
        "The CONTINUE command will exit you out of the *current iteration*, but not out of the entire loop"
      ],
      "metadata": {
        "id": "Z0P6HM7-OufQ"
      }
    },
    {
      "cell_type": "code",
      "source": [
        "for met in metrics:\n",
        "    print(met)\n",
        "    if met == 'precision':\n",
        "      break\n",
        "    print(met)\n",
        "\n",
        "print(40*'-')\n",
        "\n",
        "for met in metrics:\n",
        "    print(met)\n",
        "    if met == 'precision':\n",
        "      continue\n",
        "    print(met)\n"
      ],
      "metadata": {
        "id": "FwluPeGiOO8O",
        "outputId": "626d0fcc-3506-4ee0-88db-41f72beadfb4",
        "colab": {
          "base_uri": "https://localhost:8080/"
        }
      },
      "execution_count": 26,
      "outputs": [
        {
          "output_type": "stream",
          "name": "stdout",
          "text": [
            "auc\n",
            "auc\n",
            "recall\n",
            "recall\n",
            "precision\n",
            "----------------------------------------\n",
            "auc\n",
            "auc\n",
            "recall\n",
            "recall\n",
            "precision\n",
            "support\n",
            "support\n"
          ]
        }
      ]
    },
    {
      "cell_type": "markdown",
      "metadata": {
        "id": "AmrGuy-jJxYU"
      },
      "source": [
        "## VII. Dictionaries"
      ]
    },
    {
      "cell_type": "markdown",
      "metadata": {
        "id": "Laz3TzXiJxYU"
      },
      "source": [
        "\n",
        "**iterating using `for-loop`**"
      ]
    },
    {
      "cell_type": "code",
      "execution_count": 27,
      "metadata": {
        "id": "VoVbs27WJxYU"
      },
      "outputs": [],
      "source": [
        "courses = {'fall':['regression','python'], 'spring':['capstone','pyspark','nlp']}"
      ]
    },
    {
      "cell_type": "markdown",
      "metadata": {
        "id": "pzqZChNbJxYU"
      },
      "source": [
        "*Python's default is to interate over the keys*"
      ]
    },
    {
      "cell_type": "code",
      "execution_count": 28,
      "metadata": {
        "id": "WXKra7rJJxYU",
        "outputId": "83b026b5-5cd0-42d1-92af-c2c81e175257",
        "colab": {
          "base_uri": "https://localhost:8080/"
        }
      },
      "outputs": [
        {
          "output_type": "stream",
          "name": "stdout",
          "text": [
            "fall\n",
            "spring\n"
          ]
        }
      ],
      "source": [
        "# iterate over keys\n",
        "\n",
        "for k in courses:\n",
        "    print(k)"
      ]
    },
    {
      "cell_type": "code",
      "execution_count": 29,
      "metadata": {
        "id": "49j_Lf4jJxYU",
        "outputId": "7d62046d-2e00-47ef-e2d7-61786b4054cf",
        "colab": {
          "base_uri": "https://localhost:8080/"
        }
      },
      "outputs": [
        {
          "output_type": "stream",
          "name": "stdout",
          "text": [
            "fall\n",
            "spring\n"
          ]
        }
      ],
      "source": [
        "# iterate over keys, using keys() method\n",
        "\n",
        "for k in courses.keys():\n",
        "    print(k)"
      ]
    },
    {
      "cell_type": "code",
      "execution_count": 30,
      "metadata": {
        "id": "ht3y7R-6JxYV",
        "outputId": "502d49c7-18cd-47cd-8866-dda29e2cc5fb",
        "colab": {
          "base_uri": "https://localhost:8080/"
        }
      },
      "outputs": [
        {
          "output_type": "stream",
          "name": "stdout",
          "text": [
            "['regression', 'python']\n",
            "['capstone', 'pyspark', 'nlp']\n"
          ]
        }
      ],
      "source": [
        "# iterate over values, but it won't do it by default\n",
        "\n",
        "for v in courses.values():\n",
        "    print(v)"
      ]
    },
    {
      "cell_type": "code",
      "execution_count": 33,
      "metadata": {
        "id": "l479ozgEJxYV",
        "outputId": "c45fbe45-79e7-42d1-93cb-3d0ad9c3f6e5",
        "colab": {
          "base_uri": "https://localhost:8080/"
        }
      },
      "outputs": [
        {
          "output_type": "stream",
          "name": "stdout",
          "text": [
            "key  : fall\n",
            "value: ['regression', 'python']\n",
            "----------------------------------------\n",
            "key  : spring\n",
            "value: ['capstone', 'pyspark', 'nlp']\n",
            "----------------------------------------\n"
          ]
        }
      ],
      "source": [
        "# iterate over KEYS AND VALUES using `items()`. It needs 2 variables\n",
        "\n",
        "for k, v in courses.items():\n",
        "    print(\"key  :\", k)\n",
        "    print(\"value:\", v)\n",
        "    print(\"-\"*40)"
      ]
    },
    {
      "cell_type": "markdown",
      "metadata": {
        "id": "74tjoMLfJxYV"
      },
      "source": [
        "Alternatively, keys and values can be extracted from the dict by:\n",
        "- looping over the keys\n",
        "- extract the value by indexing into the dict with the key"
      ]
    },
    {
      "cell_type": "code",
      "execution_count": 34,
      "metadata": {
        "id": "zC2zr-YKJxYV",
        "outputId": "f81daef5-f680-4a58-8faf-9791eb7c27a6",
        "colab": {
          "base_uri": "https://localhost:8080/"
        }
      },
      "outputs": [
        {
          "output_type": "stream",
          "name": "stdout",
          "text": [
            "key  : fall\n",
            "value: ['regression', 'python']\n",
            "----------------------------------------\n",
            "key  : spring\n",
            "value: ['capstone', 'pyspark', 'nlp']\n",
            "----------------------------------------\n"
          ]
        }
      ],
      "source": [
        "# iterate over keys and values using `key()`.\n",
        "\n",
        "for k in courses.keys():\n",
        "    print(\"key  :\", k)\n",
        "    print(\"value:\", courses[k]) # index into the dict with the key\n",
        "    print(\"-\"*40)"
      ]
    },
    {
      "cell_type": "code",
      "execution_count": null,
      "metadata": {
        "id": "yLl8RR4zJxYV"
      },
      "outputs": [],
      "source": [
        "# iterate over keys and values using `key()`.\n",
        "for k in courses.keys():\n",
        "    print(f\"{k}:\\t{', '.join(courses[k])}\") # index into the dict with the key\n",
        "                                            # .join() turns a list into a string\n"
      ]
    },
    {
      "cell_type": "markdown",
      "metadata": {
        "id": "p0WYEwIZJxYV"
      },
      "source": [
        "###**enumerate( ) will return the index, key for each row**"
      ]
    },
    {
      "cell_type": "code",
      "execution_count": 39,
      "metadata": {
        "id": "MicWpoFmJxYV",
        "outputId": "bfd47ba8-5440-4ef5-c635-c4a3fd984eee",
        "colab": {
          "base_uri": "https://localhost:8080/"
        }
      },
      "outputs": [
        {
          "output_type": "stream",
          "name": "stdout",
          "text": [
            "(0, 'fall')\n",
            "(1, 'spring')\n"
          ]
        }
      ],
      "source": [
        "for k in enumerate(courses):\n",
        "    print(k)"
      ]
    },
    {
      "cell_type": "markdown",
      "metadata": {
        "id": "bPG5_GDsJxYV"
      },
      "source": [
        "## VIII. Sets\n",
        "    There is no order, so no index"
      ]
    },
    {
      "cell_type": "markdown",
      "metadata": {
        "id": "kyFrM8ttJxYV"
      },
      "source": [
        "##**iterating using `for`**  \n",
        "note: set has no notion of order"
      ]
    },
    {
      "cell_type": "code",
      "execution_count": 44,
      "metadata": {
        "id": "CI1-G88CJxYV",
        "outputId": "8f1108b8-fd9b-4156-a272-c95c382df36f",
        "colab": {
          "base_uri": "https://localhost:8080/"
        }
      },
      "outputs": [
        {
          "output_type": "stream",
          "name": "stdout",
          "text": [
            "rapunzel\n",
            "belle\n",
            "cinderella\n"
          ]
        }
      ],
      "source": [
        "princesses = {'belle','cinderella','rapunzel'}\n",
        "\n",
        "for princess in princesses:     #This could output 'cinderella' first, or 'rapunzel' first since there is NO ORDER\n",
        "    print(princess)"
      ]
    },
    {
      "cell_type": "markdown",
      "metadata": {
        "id": "VhmccmcpJxYV"
      },
      "source": [
        "##**iterating using `iter()` and `next()`**"
      ]
    },
    {
      "cell_type": "code",
      "execution_count": 49,
      "metadata": {
        "id": "P0jtnh6TJxYV",
        "outputId": "c876ed78-de8f-407a-a495-0eb8e465cf9e",
        "colab": {
          "base_uri": "https://localhost:8080/"
        }
      },
      "outputs": [
        {
          "output_type": "stream",
          "name": "stdout",
          "text": [
            "rapunzel\n",
            "belle\n",
            "aaron\n"
          ]
        }
      ],
      "source": [
        "princesses = {'aaron','belle','cinderella','rapunzel'}\n",
        "\n",
        "myset = iter(princesses)\n",
        "print(next(myset))\n",
        "print(next(myset))\n",
        "print(next(myset))"
      ]
    },
    {
      "cell_type": "code",
      "source": [
        "enumerate(princesses)\n",
        "list(enumerate(princesses))"
      ],
      "metadata": {
        "id": "lDadR082Q0PD"
      },
      "execution_count": null,
      "outputs": []
    },
    {
      "cell_type": "markdown",
      "metadata": {
        "id": "hz0-_t5SJxYV"
      },
      "source": [
        "---"
      ]
    },
    {
      "cell_type": "markdown",
      "metadata": {
        "id": "kVllgaAkJxYV"
      },
      "source": [
        "### TRY FOR YOURSELF (UNGRADED EXERCISES)"
      ]
    },
    {
      "cell_type": "markdown",
      "metadata": {
        "id": "aJzCf636JxYV"
      },
      "source": [
        "1a) Create a list of strings, where each string contains a mix of uppercase and lowercase letters.  \n",
        "Write a `for` loop` to iterate over the strings and:\n",
        "- lowercase the string (hint: `lower()`)\n",
        "- print the string"
      ]
    },
    {
      "cell_type": "code",
      "execution_count": 62,
      "metadata": {
        "jupyter": {
          "source_hidden": true
        },
        "id": "8L2NOoV_JxYV",
        "outputId": "41ad34a2-10d6-4843-9ad9-a3cc94d40847",
        "colab": {
          "base_uri": "https://localhost:8080/"
        }
      },
      "outputs": [
        {
          "output_type": "stream",
          "name": "stdout",
          "text": [
            "<class 'str'>\n",
            "john\n",
            "<class 'str'>\n",
            "paul\n",
            "<class 'str'>\n",
            "george\n",
            "<class 'str'>\n",
            "ringo\n"
          ]
        }
      ],
      "source": [
        "names = ['JoHn', 'PAul', 'GEOrge', 'RinGO']\n",
        "\n",
        "for n in names:\n",
        "  print(type(n))\n",
        "  print(n.lower())\n",
        "\n",
        "\n"
      ]
    },
    {
      "cell_type": "markdown",
      "metadata": {
        "id": "E21TOxUdJxYW"
      },
      "source": [
        "1b) Using the list from (1a), use `iter()` and `next()` to iterate over the list, printing each string.  \n",
        "The strings don't need to be lowercased."
      ]
    },
    {
      "cell_type": "code",
      "execution_count": 70,
      "metadata": {
        "jupyter": {
          "source_hidden": true
        },
        "id": "zUnhJGA6JxYW",
        "outputId": "1a63f345-d44b-4e82-f202-53b51149fe2f",
        "colab": {
          "base_uri": "https://localhost:8080/"
        }
      },
      "outputs": [
        {
          "output_type": "stream",
          "name": "stdout",
          "text": [
            "JoHn\n",
            "PAul\n",
            "GEOrge\n",
            "RinGO\n"
          ]
        }
      ],
      "source": [
        "n = iter(names)\n",
        "str(n)\n",
        "print(next(n))\n",
        "print(next(n))\n",
        "print(next(n))\n",
        "print(next(n))\n",
        "\n",
        "\n"
      ]
    },
    {
      "cell_type": "markdown",
      "metadata": {
        "id": "aAYR3dW_JxYW"
      },
      "source": [
        "2a) Create a dictionary. Use a `for` loop with `items()` to print each key-value pair."
      ]
    },
    {
      "cell_type": "code",
      "execution_count": 72,
      "metadata": {
        "jupyter": {
          "source_hidden": true
        },
        "id": "z_dE_f3vJxYW",
        "outputId": "acd99e1e-48ca-4962-ea30-243580d927ff",
        "colab": {
          "base_uri": "https://localhost:8080/"
        }
      },
      "outputs": [
        {
          "output_type": "stream",
          "name": "stdout",
          "text": [
            "('Santa Barbara', 93103)\n",
            "('Charlottesville', 22903)\n"
          ]
        }
      ],
      "source": [
        "city_zip = {'Santa Barbara':93103, 'Charlottesville':22903}\n",
        "\n",
        "for i in city_zip.items():\n",
        "  print(i)"
      ]
    },
    {
      "cell_type": "markdown",
      "metadata": {
        "id": "Pdzi-GP8JxYW"
      },
      "source": [
        "2b) Using the dictionary from (2a), use a `for` loop with `key()` to print each key-value pair.  \n",
        "To extract the values, use the key to index into the dict."
      ]
    },
    {
      "cell_type": "code",
      "execution_count": 74,
      "metadata": {
        "jupyter": {
          "source_hidden": true
        },
        "id": "N2RGOSyQJxYW",
        "outputId": "31d97bc7-38fa-4704-9588-07f485ae77ab",
        "colab": {
          "base_uri": "https://localhost:8080/"
        }
      },
      "outputs": [
        {
          "output_type": "stream",
          "name": "stdout",
          "text": [
            "Santa Barbara 93103\n",
            "Charlottesville 22903\n"
          ]
        }
      ],
      "source": [
        "for i in city_zip.keys():\n",
        "  print(i, city_zip[i])"
      ]
    },
    {
      "cell_type": "markdown",
      "metadata": {
        "id": "XAGhJknZJxYW"
      },
      "source": [
        "---"
      ]
    },
    {
      "cell_type": "markdown",
      "metadata": {
        "id": "6isR8dB9JxYW"
      },
      "source": [
        "## IX. Nested Loops  \n",
        "\n",
        "  Iterations can be nested!\n",
        "\n",
        "  This works well with nested data structures, like dicts within dicts.\n",
        "\n",
        "  This is basically how `JSON` files are handled.\n",
        "\n",
        "  Be careful, though -- these can get complicated."
      ]
    },
    {
      "cell_type": "code",
      "source": [
        "courses\n",
        "#list(enumerate(courses))"
      ],
      "metadata": {
        "id": "3kJuOnvTRvir",
        "outputId": "0c56b5c5-6878-424e-9e76-0250443ad28c",
        "colab": {
          "base_uri": "https://localhost:8080/"
        }
      },
      "execution_count": 78,
      "outputs": [
        {
          "output_type": "execute_result",
          "data": {
            "text/plain": [
              "{'fall': ['regression', 'python'], 'spring': ['capstone', 'pyspark', 'nlp']}"
            ]
          },
          "metadata": {},
          "execution_count": 78
        }
      ]
    },
    {
      "cell_type": "code",
      "execution_count": 76,
      "metadata": {
        "id": "oFF7-DdMJxYW",
        "outputId": "1afda17d-9707-4724-ba93-1f0f1ff90340",
        "colab": {
          "base_uri": "https://localhost:8080/"
        }
      },
      "outputs": [
        {
          "output_type": "stream",
          "name": "stdout",
          "text": [
            "1. FALL:\n",
            "\t1.1. regression\n",
            "\t1.2. python\n",
            "2. SPRING:\n",
            "\t2.1. capstone\n",
            "\t2.2. pyspark\n",
            "\t2.3. nlp\n"
          ]
        }
      ],
      "source": [
        "for i, semester in enumerate(courses):\n",
        "    print(f\"{i+1}. {semester.upper()}:\")\n",
        "    for j, course in enumerate(courses[semester]):\n",
        "        print(f\"\\t{i+1}.{j+1}. {course}\")"
      ]
    },
    {
      "cell_type": "markdown",
      "metadata": {
        "id": "Ieak7T-SJxYW"
      },
      "source": [
        "## X. List Comprehensions\n",
        "\n",
        "Start with this `for` loop:"
      ]
    },
    {
      "cell_type": "code",
      "execution_count": 79,
      "metadata": {
        "id": "mDCukjo5JxYW",
        "outputId": "858a4018-92cb-447c-9881-27e649d393f8",
        "colab": {
          "base_uri": "https://localhost:8080/"
        }
      },
      "outputs": [
        {
          "output_type": "execute_result",
          "data": {
            "text/plain": [
              "[True, True, False, False, False, True]"
            ]
          },
          "metadata": {},
          "execution_count": 79
        }
      ],
      "source": [
        "vals = [1, 5, 6, 8, 12, 15]\n",
        "is_odd = []\n",
        "\n",
        "for val in vals:\n",
        "    if val % 2: # if remainder is one, val is odd\n",
        "        is_odd.append(True)\n",
        "    else:       # else it's not odd\n",
        "        is_odd.append(False)\n",
        "\n",
        "is_odd"
      ]
    },
    {
      "cell_type": "markdown",
      "metadata": {
        "id": "ys8tPDEtJxYW"
      },
      "source": [
        "The code loops over each value in the list, checks the condition, and appends to a new list.  \n",
        "\n",
        "The code works, but it's lengthy compared to a list comprehension.  \n",
        "\n",
        "The approach takes extra time to write and understand.  \n",
        "\n",
        "Let's solve with a list comprehension:"
      ]
    },
    {
      "cell_type": "code",
      "source": [
        "print(is_odd)\n",
        "del(is_odd)\n",
        "print(is_odd) #This returns an error becuase it is_odd has been deleted and doesn't exist anymore"
      ],
      "metadata": {
        "id": "Bk6GGy74R4LL"
      },
      "execution_count": null,
      "outputs": []
    },
    {
      "cell_type": "code",
      "execution_count": 85,
      "metadata": {
        "id": "A3DZGuB-JxYW",
        "outputId": "f36f8892-6fe0-43a8-c4e2-735c2f40ace5",
        "colab": {
          "base_uri": "https://localhost:8080/",
          "height": 108
        }
      },
      "outputs": [
        {
          "output_type": "error",
          "ename": "SyntaxError",
          "evalue": "cannot assign to expression here. Maybe you meant '==' instead of '='? (<ipython-input-85-ed8753fd08db>, line 1)",
          "traceback": [
            "\u001b[0;36m  File \u001b[0;32m\"<ipython-input-85-ed8753fd08db>\"\u001b[0;36m, line \u001b[0;32m1\u001b[0m\n\u001b[0;31m    is_odd = [val % 2 = 1 for val in vals]\u001b[0m\n\u001b[0m              ^\u001b[0m\n\u001b[0;31mSyntaxError\u001b[0m\u001b[0;31m:\u001b[0m cannot assign to expression here. Maybe you meant '==' instead of '='?\n"
          ]
        }
      ],
      "source": [
        "#This is a list comprehension: = [comprehension + context]\n",
        "is_odd = [val % 2 == 1 for val in vals]   # '==' denotes a boolean\n",
        "is_odd\n"
      ]
    },
    {
      "cell_type": "markdown",
      "metadata": {
        "id": "JtSwIIBaJxYW"
      },
      "source": [
        "Much shorter, and if you understand the syntax, quicker to interpet.\n",
        "\n",
        "Note the in-place use of an expression.\n",
        "\n",
        "Now let's discuss the syntax."
      ]
    },
    {
      "cell_type": "markdown",
      "metadata": {
        "id": "t6b5cE6NJxYW"
      },
      "source": [
        "## Comprehensions in General\n",
        "\n",
        "Comprehensions provide a concise method for iterating over any list-like object to a new list like object.\n",
        "\n",
        "There are comprehensions for each list-like object:\n",
        "* List comprehensions\n",
        "* Dictionary comprehensions\n",
        "* Tuple comprehensions\n",
        "* Set comprehensions\n",
        "\n",
        "Comprehensions are essentially very concise `for` loops. They are compact visually, but they also are more efficient than loops.\n",
        "\n",
        "All comprehensions have the form:\n",
        "\n",
        "listlike_result = `[ expression + context]`\n",
        "\n",
        "The type of comprehension is indicated by the use of enclosing pairs, just like anonymous constructors:\n",
        "\n",
        "* List comprehensions       `[expression + context]`\n",
        "* Dictionary comprehensions `{expression + context}`\n",
        "* Tuple comprehensions      `(expression + context)`\n",
        "* Set comprehensions        `{expression + context}`\n",
        "\n",
        "\n",
        "**Expression** defines what to do with each element in the list. This has the structure of the kind of comprehension. So, dictionary comprehension expressions take the form `k:v` while sets use `v`.\n",
        "\n",
        "**Context** defines which list elements to select.  The context always consists of an arbitrary number of `for` and `if` statements.\n",
        "\n",
        "---\n",
        "\n",
        "**Another example:**\n",
        "\n",
        "*Stop Word Remover*\n",
        "\n",
        "Create list of words, and list of stop words.  \n",
        "Filter out the stop words (considered not important)."
      ]
    },
    {
      "cell_type": "code",
      "execution_count": 89,
      "metadata": {
        "id": "UbopEmEnJxYW",
        "outputId": "7d049dac-51bc-4c40-ef26-143b907caaf2",
        "colab": {
          "base_uri": "https://localhost:8080/"
        }
      },
      "outputs": [
        {
          "output_type": "execute_result",
          "data": {
            "text/plain": [
              "['not', 'fan', 'film']"
            ]
          },
          "metadata": {},
          "execution_count": 89
        }
      ],
      "source": [
        "stop_words = ['a','am','an','i','the','of']\n",
        "words      = ['i','am','not','a','fan','of','the','film']\n",
        "\n",
        "clean_words = [wd for wd in words if wd not in stop_words]\n",
        "clean_words"
      ]
    },
    {
      "cell_type": "markdown",
      "metadata": {
        "id": "QCtUi_wTJxYX"
      },
      "source": [
        "-The expression is very simple: wd. keep the word if meets condition  \n",
        "-The condition does the work: if the word isn't in list of stop words, keep it"
      ]
    },
    {
      "cell_type": "markdown",
      "metadata": {
        "id": "GiJWHcgkJxYX"
      },
      "source": [
        "Side note: This task can also be done with sets, if you are not concerned with mulitple instances of the same word:"
      ]
    },
    {
      "cell_type": "code",
      "execution_count": 87,
      "metadata": {
        "id": "fv2L2MZlJxYX",
        "outputId": "7b3fd7a2-dd02-4f93-b3a5-1a2521b418b9",
        "colab": {
          "base_uri": "https://localhost:8080/"
        }
      },
      "outputs": [
        {
          "output_type": "execute_result",
          "data": {
            "text/plain": [
              "{'fan', 'film', 'not'}"
            ]
          },
          "metadata": {},
          "execution_count": 87
        }
      ],
      "source": [
        "s1 = set(stop_words)\n",
        "s2 = set(words)\n",
        "s3 = s2 - s1\n",
        "\n",
        "s3"
      ]
    },
    {
      "cell_type": "markdown",
      "metadata": {
        "id": "GVyDyRS9JxYX"
      },
      "source": [
        "---\n",
        "**Another Example**  \n",
        "\n",
        "Select a list of measurements, retain elements containing mmHG"
      ]
    },
    {
      "cell_type": "code",
      "execution_count": 90,
      "metadata": {
        "id": "m0XPQx-kJxYX",
        "outputId": "7b43dc15-9dae-4677-f74e-f334f5fc298e",
        "colab": {
          "base_uri": "https://localhost:8080/"
        }
      },
      "outputs": [
        {
          "output_type": "execute_result",
          "data": {
            "text/plain": [
              "['115mmHg', '120 mmHg']"
            ]
          },
          "metadata": {},
          "execution_count": 90
        }
      ],
      "source": [
        "units = 'mmHg'\n",
        "measures = ['20', '115mmHg', '5mg', '10 mg', '7.5dl', '120 mmHg']\n",
        "\n",
        "meas_mmhg = [meas for meas in measures if units in meas]\n",
        "\n",
        "meas_mmhg"
      ]
    },
    {
      "cell_type": "markdown",
      "metadata": {
        "id": "4DbOtXRAJxYX"
      },
      "source": [
        "Filter on 2 conditions"
      ]
    },
    {
      "cell_type": "code",
      "execution_count": 91,
      "metadata": {
        "id": "2LM2ksjlJxYX",
        "outputId": "7a7588db-f9d3-4733-a577-24a8f92c890d",
        "colab": {
          "base_uri": "https://localhost:8080/"
        }
      },
      "outputs": [
        {
          "output_type": "execute_result",
          "data": {
            "text/plain": [
              "['115mmHg', '7.5dl', '120 mmHg']"
            ]
          },
          "metadata": {},
          "execution_count": 91
        }
      ],
      "source": [
        "units1 = 'mmHg'\n",
        "units2 = 'dl'\n",
        "meas_mmhg_dl = [meas for meas in measures if units1 in meas or units2 in meas]\n",
        "\n",
        "meas_mmhg_dl"
      ]
    },
    {
      "cell_type": "markdown",
      "metadata": {
        "id": "lxQPod1dJxYX"
      },
      "source": [
        "For clarity:"
      ]
    },
    {
      "cell_type": "code",
      "execution_count": null,
      "metadata": {
        "id": "j2lFYyHGJxYX"
      },
      "outputs": [],
      "source": [
        "[meas\n",
        " for meas in measures\n",
        " if units1 in meas\n",
        " or units2 in meas]"
      ]
    },
    {
      "cell_type": "markdown",
      "metadata": {
        "id": "Vitk461EJxYX"
      },
      "source": [
        "---\n",
        "## Dictionary Comprehensions\n",
        "\n",
        "**Dictionary comprehensions** provide a concise method for iterating over a dictionary to create a new dictionary.\n",
        "\n",
        "This is common when data is structured as key-value pairs, and we'd like to filter the dict."
      ]
    },
    {
      "cell_type": "code",
      "execution_count": null,
      "metadata": {
        "id": "7HiOfxN9JxYX"
      },
      "outputs": [],
      "source": [
        "# various deep learning models and their depths\n",
        "\n",
        "model_arch = {'cnn_1':'15 layers', 'cnn_2':'20 layers', 'rnn': '10 layers'}"
      ]
    },
    {
      "cell_type": "code",
      "execution_count": null,
      "metadata": {
        "id": "S8BjSeR_JxYX"
      },
      "outputs": [],
      "source": [
        "# create a new dict containing only key-value pairs where the key contains 'cnn'\n",
        "\n",
        "cnns = {key:model_arch[key] for key in model_arch.keys() if 'cnn' in key}\n",
        "cnns"
      ]
    },
    {
      "cell_type": "markdown",
      "metadata": {
        "id": "0tykY55mJxYX"
      },
      "source": [
        "We build the key-value pairs using the expression `key:model_arch[key]`, where the key indexes into the dict `model_arch`."
      ]
    },
    {
      "cell_type": "code",
      "execution_count": null,
      "metadata": {
        "id": "kMU0Qv9yJxYX"
      },
      "outputs": [],
      "source": []
    }
  ],
  "metadata": {
    "anaconda-cloud": {},
    "kernelspec": {
      "display_name": "Python 3.8.9 64-bit",
      "language": "python",
      "name": "python3"
    },
    "language_info": {
      "codemirror_mode": {
        "name": "ipython",
        "version": 3
      },
      "file_extension": ".py",
      "mimetype": "text/x-python",
      "name": "python",
      "nbconvert_exporter": "python",
      "pygments_lexer": "ipython3",
      "version": "3.8.9"
    },
    "vscode": {
      "interpreter": {
        "hash": "31f2aee4e71d21fbe5cf8b01ff0e069b9275f58929596ceb00d14d90e3e16cd6"
      }
    },
    "colab": {
      "provenance": [],
      "toc_visible": true,
      "include_colab_link": true
    }
  },
  "nbformat": 4,
  "nbformat_minor": 0
}