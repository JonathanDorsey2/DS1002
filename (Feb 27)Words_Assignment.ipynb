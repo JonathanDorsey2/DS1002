{
  "nbformat": 4,
  "nbformat_minor": 0,
  "metadata": {
    "colab": {
      "provenance": [],
      "authorship_tag": "ABX9TyMwNT1RDxXmuiHPHrXZcv5w",
      "include_colab_link": true
    },
    "kernelspec": {
      "name": "python3",
      "display_name": "Python 3"
    },
    "language_info": {
      "name": "python"
    }
  },
  "cells": [
    {
      "cell_type": "markdown",
      "metadata": {
        "id": "view-in-github",
        "colab_type": "text"
      },
      "source": [
        "<a href=\"https://colab.research.google.com/github/JonathanDorsey2/DS1002/blob/main/(Feb%2027)Words_Assignment.ipynb\" target=\"_parent\"><img src=\"https://colab.research.google.com/assets/colab-badge.svg\" alt=\"Open In Colab\"/></a>"
      ]
    },
    {
      "cell_type": "markdown",
      "source": [
        "\n",
        "\n",
        "Words (an assignment due Weds 28 Feb by noon)\n",
        "There are many word lists available on the internet, of varying size and quality. You have one on your own computer, actually, which is used by any software that has a spell-check feature. As you type, the software (Outlook, or Microsoft Word, or whatever) is constantly looking up words to see if they are on the word list, and if not it will alert you that it thinks the word is misspelled.\n",
        "\n",
        "(On a Mac, one such file is located at /usr/share/dict/web2. I'm not sure where to find it on a PC.)\n",
        "\n",
        "For this assignment we will use a word list called web2 that you can access via a python package called english_words.\n",
        "\n",
        "**General instructions:**\n",
        "\n",
        "You may work in teams of up to three people.\n",
        "If you do so, only one of your team should submit your link on Canvas, and you should include all names both in the document and in a comment on Canvas.\n",
        "Some of these problems are tricky. You should try to figure out how to solve them, rather than looking up answers. If you need to know how to do a very specific thing, or if you are looking for the syntax for a particular function, that is an acceptable use of google. You should under no circumstance search for existing code, or ask a chatbot to produce code, to solve the problems.\n",
        "Some of the problems are trickier than others. I think you can solve them all using tools we have seen in previous notebooks, although there are often more efficient ways to solve them. (This was true for the image filtering problem we discussed last week, as you may recall.)\n",
        "As usual, submit a clean, annotated notebook with appropriately commented code. Make it easy to grade!\n",
        "\n",
        "\n",
        "**Assignment:**\n",
        "\n",
        "1. The variable words is not yet a list. What is its data type? Convert it to a list called wordlist. How long is wordlist?\n",
        "\n",
        "2. Print out the first ten words in wordlist. What do you notice?\n",
        "\n",
        "3. Make a list called alpha_list containing all the same words, but in alphabetical order. (Use the sorted() function.) Print out the first ten words in alpha_list.\n",
        "\n",
        "4. How many words start with a? I mean words on your list (either sorted or unsorted); whenever I say \"words\" from now on I will be referring to these lists.\n",
        "\n",
        "5. How many words have a q in them? What fraction of words do not have an e?\n",
        "\n",
        "6. Import numpy and convert your lists to numpy arrays. Also execute the following code:\n",
        "alphabet = [chr(i) for i in range(ord('a'),ord('z')+1)]\n",
        "What does this do?\n",
        "\n",
        "7. Make a bar graph of the number of words starting with each letter. You will have to import at least one more package to do this. Label the axes and give the whole plot a title.\n",
        "\n",
        "8. What are the six longest words in the word list?\n",
        "\n",
        "9. Make a histogram of the number of words of each length. Again, give the plot a title and label the axes. What is the most common length of a word in the wordlist?\n",
        "\n",
        "10. Finally, before you submit your notebook, go back and clean it up, remove unnecessary code, add text explanations and comments where appropriate, and so on. Make it as easy as possible for us to read.\n",
        "\n",
        "**BONUS:**\n",
        "\n",
        "(warmup) How many words contain both letters v and a? What about both w and l? The letters don't have to be next to each other or in the order I gave them, just anywhere in the word. Also, how long does it take the computer to run the code you wrote to answer this question? This should appear in a tiny font under the green checkmark next to the \"run\" button after the code finishes (without errors, of course).\n",
        "\n",
        "(the real bonus) What is the pair of letters that appear in the most words? How many words contain both those letters?\n",
        "In other words, in the previous problem, you counted the words for two separate pairs, v,a and w,l. I'm now asking, out of all possible pairs, which pair would give the largest answer, and what that number is. Answer the same questions for the fewest words: what pair of letters is contained in the fewest words, and how many words are those two letters contained in?\n",
        "\n",
        "*Note:* Before you attempt this, plan your strategy! What exactly is the infomation you want to collect? How should you structure that information? How can you set up code to implement that structure? When you have something you are ready to try, test your code on a smaller set than the whole word list! The reason for this is that the word list is long, and each time you run the code on the whole list it might take several minutes to execute.\n",
        "\n",
        "*Tip:* there is a way to go back and forth between letters and numbers. The ord() function takes characters to integers, and the chr() function takes integers back to characters. Specifically, the (lower case) alphabetic characters are encoded with integers starting at 97. So if you type ord('a') the output will be 97. If you type chr(98) the output will be 'b'. The way I solved the bonus problem, this tip was useful. (See also problem 6.)"
      ],
      "metadata": {
        "id": "GUUgIxNVweTW"
      }
    },
    {
      "cell_type": "code",
      "execution_count": 1,
      "metadata": {
        "colab": {
          "base_uri": "https://localhost:8080/"
        },
        "id": "dDykAqIgwQ3K",
        "outputId": "7f768e50-9b18-4967-bbeb-8c74b6801f4f"
      },
      "outputs": [
        {
          "output_type": "stream",
          "name": "stdout",
          "text": [
            "Collecting english_words\n",
            "  Downloading english-words-2.0.1.tar.gz (8.2 MB)\n",
            "\u001b[2K     \u001b[90m━━━━━━━━━━━━━━━━━━━━━━━━━━━━━━━━━━━━━━━━\u001b[0m \u001b[32m8.2/8.2 MB\u001b[0m \u001b[31m13.2 MB/s\u001b[0m eta \u001b[36m0:00:00\u001b[0m\n",
            "\u001b[?25h  Installing build dependencies ... \u001b[?25l\u001b[?25hdone\n",
            "  Getting requirements to build wheel ... \u001b[?25l\u001b[?25hdone\n",
            "  Preparing metadata (pyproject.toml) ... \u001b[?25l\u001b[?25hdone\n",
            "Building wheels for collected packages: english_words\n",
            "  Building wheel for english_words (pyproject.toml) ... \u001b[?25l\u001b[?25hdone\n",
            "  Created wheel for english_words: filename=english_words-2.0.1-py3-none-any.whl size=8196238 sha256=84e673cb26bf89a8a674da1e3b339d76808caeec5b29552f7789a353c729cff4\n",
            "  Stored in directory: /root/.cache/pip/wheels/f0/e6/d9/16a123647999fe535f03a36e7af23eef203736d84c7ca25b0b\n",
            "Successfully built english_words\n",
            "Installing collected packages: english_words\n",
            "Successfully installed english_words-2.0.1\n",
            "<class 'set'>\n"
          ]
        }
      ],
      "source": [
        "!pip install english_words\n",
        "from english_words import get_english_words_set\n",
        "\n",
        "\n",
        "\n",
        "\n",
        "words = get_english_words_set(['web2'], lower=True)\n",
        "print(type(words))\n",
        "\n"
      ]
    },
    {
      "cell_type": "code",
      "source": [
        "#Question 1\n",
        "#The variable words is not yet a list. What is its data type? Convert it to a list called wordlist. How long is wordlist?\n",
        "\n",
        "print(type(words))\n",
        "# The data type is \"set\"\n",
        "\n",
        "wordlist = list(words) #there is a difference between list() and [] in casting.\n",
        "#wordlist is a list\n",
        "\n",
        "len(wordlist)\n",
        "# wordlist has a length of 1"
      ],
      "metadata": {
        "id": "cf-K8bU8F9wG",
        "outputId": "cd383cb3-832e-4356-ab2e-3479d598b026",
        "colab": {
          "base_uri": "https://localhost:8080/"
        }
      },
      "execution_count": 2,
      "outputs": [
        {
          "output_type": "stream",
          "name": "stdout",
          "text": [
            "<class 'set'>\n"
          ]
        },
        {
          "output_type": "execute_result",
          "data": {
            "text/plain": [
              "234450"
            ]
          },
          "metadata": {},
          "execution_count": 2
        }
      ]
    },
    {
      "cell_type": "code",
      "source": [
        "#Question 2\n",
        "#Print out the first ten words in wordlist. What do you notice?\n",
        "\n",
        "print(wordlist[:10])\n",
        "#They are not really words. Some are but others are not."
      ],
      "metadata": {
        "id": "64UIHvrnHNHf",
        "outputId": "aa6c2688-5fa8-40c4-a87f-d58bce81b1ca",
        "colab": {
          "base_uri": "https://localhost:8080/"
        }
      },
      "execution_count": 3,
      "outputs": [
        {
          "output_type": "stream",
          "name": "stdout",
          "text": [
            "['sectionally', 'tavastian', 'defaultless', 'cetoniinae', 'queriman', 'alumbloom', 'operameter', 'incestuous', 'curber', 'galvanometer']\n"
          ]
        }
      ]
    },
    {
      "cell_type": "code",
      "source": [
        "#Question 3\n",
        "#Make a list called alpha_list containing all the same words, but in alphabetical order.\n",
        "#(Use the sorted() function.) Print out the first ten words in alpha_list.\n",
        "\n",
        "alpha_list = sorted(wordlist)\n",
        "alpha_list[0:10]"
      ],
      "metadata": {
        "id": "P02_AIl6JBxA",
        "outputId": "f4e5bb26-6388-45d9-8569-46099b97390e",
        "colab": {
          "base_uri": "https://localhost:8080/"
        }
      },
      "execution_count": 4,
      "outputs": [
        {
          "output_type": "execute_result",
          "data": {
            "text/plain": [
              "['a',\n",
              " 'aa',\n",
              " 'aal',\n",
              " 'aalii',\n",
              " 'aam',\n",
              " 'aani',\n",
              " 'aardvark',\n",
              " 'aardwolf',\n",
              " 'aaron',\n",
              " 'aaronic']"
            ]
          },
          "metadata": {},
          "execution_count": 4
        }
      ]
    },
    {
      "cell_type": "code",
      "source": [
        "#Question 4\n",
        "#How many words start with a? I mean words on your list (either sorted or unsorted);\n",
        "#whenever I say \"words\" from now on I will be referring to these lists.\n",
        "\n",
        "alpha_list.index(\"b\")   #16982 words start with \"a\"\n",
        "#find out when the first instance of \"b\" is, then thats the answer since index starts at 0\n",
        "\n",
        "#Another way to get the answer:\n",
        "a_words = 0\n",
        "\n",
        "for words in alpha_list:\n",
        "  if words.startswith(\"a\"):\n",
        "    a_words += 1\n",
        "\n",
        "print(a_words)"
      ],
      "metadata": {
        "id": "DdXpLtmAJ8zK",
        "outputId": "b800d3b1-8e91-48c8-966c-d5d6de5b11e6",
        "colab": {
          "base_uri": "https://localhost:8080/"
        }
      },
      "execution_count": 5,
      "outputs": [
        {
          "output_type": "stream",
          "name": "stdout",
          "text": [
            "16982\n"
          ]
        }
      ]
    },
    {
      "cell_type": "code",
      "source": [
        "#Question 5\n",
        "#How many words have a q in them? What fraction of words do not have an e?\n",
        "from fractions import Fraction as fr\n",
        "\n",
        "total = len(alpha_list)\n",
        "count_q = 0\n",
        "\n",
        "for words in alpha_list:\n",
        "  if \"q\" in words:\n",
        "    count_q += 1\n",
        "\n",
        "print(count_q) #prints the # of words that have \"q\" in them\n",
        "\n",
        "count_e = 0\n",
        "\n",
        "for words in alpha_list:\n",
        "  if \"e\" in words:\n",
        "    count_e += 1\n",
        "\n",
        "print(fr(count_e/total)) #about 2/3\n",
        "print(count_e/total)\n",
        "\n"
      ],
      "metadata": {
        "id": "cyu5evc1LX83",
        "outputId": "2d4ea772-925e-4585-f3fb-342e028d1c98",
        "colab": {
          "base_uri": "https://localhost:8080/"
        }
      },
      "execution_count": 6,
      "outputs": [
        {
          "output_type": "stream",
          "name": "stdout",
          "text": [
            "3624\n",
            "3025143457951867/4503599627370496\n",
            "0.6717167839624654\n"
          ]
        }
      ]
    },
    {
      "cell_type": "code",
      "source": [
        "#Question 6\n",
        "#Import numpy and convert your lists to numpy arrays.\n",
        "#Also execute the following code: alphabet = [chr(i) for i in range(ord('a'),ord('z')+1)] What does this do?\n",
        "\n",
        "import numpy as np\n",
        "alpha_list = np.array(alpha_list)\n",
        "wordlist = np.array(wordlist)\n",
        "\n",
        "alphabet = [chr(i) for i in range(ord('a'),ord('z')+1)]\n",
        "#chr stands for character, as in a letter or a symbol in a string\n",
        "#ord stands for ordinal, this represents the location of a character on the \"unicode\" list: each character represents a numeral value in python\n",
        "#This line of code creates a list of numbers(ordinals) from 97 to 122, and then converts the ordinals into the characters they represent"
      ],
      "metadata": {
        "id": "f0ke874AR4Ax"
      },
      "execution_count": 7,
      "outputs": []
    },
    {
      "cell_type": "code",
      "source": [
        "#Question 7\n",
        "#Make a bar graph of the number of words starting with each letter.\n",
        "#You will have to import at least one more package to do this. Label the axes and give the whole plot a title.\n",
        "\n",
        "import matplotlib.pyplot as plt\n",
        "\n",
        "#The axis\n",
        "x_axis = [\"a\",\"b\",\"c\", \"d\",\"e\",\"f\",\"g\",\"h\",\"i\",\"j\",\"k\",\"l\",\"m\",\"n\",\"o\",\"p\",\"q\",\"r\",\"s\",\"t\",\"u\",\"v\",\"w\",\"x\",\"y\",\"z\"]\n",
        "y_axis = np.zeros(26)\n",
        "\n",
        "#the for loop goes through the list\n",
        "for words in alpha_list:\n",
        "  firstletter = words[0]\n",
        "  y_axis[ord(firstletter)-ord(\"z\")+25] += 1\n",
        "\n",
        "print(y_axis)\n",
        "\n",
        "#This is where we set up the bar graph\n",
        "plt.bar(x_axis, y_axis, color=\"g\")\n",
        "plt.xlabel(\"First Letter\")\n",
        "plt.ylabel(\"Frequency\")\n",
        "plt.title(\"Frequency of First Letters\")\n",
        "\n"
      ],
      "metadata": {
        "id": "jzmxPdMoEJEn",
        "outputId": "97d5c037-9765-4929-c267-7ededaf836ff",
        "colab": {
          "base_uri": "https://localhost:8080/",
          "height": 543
        }
      },
      "execution_count": 8,
      "outputs": [
        {
          "output_type": "stream",
          "name": "stdout",
          "text": [
            "[16982. 10970. 19789. 10853.  8705.  6841.  6772.  8997.  8787.  1604.\n",
            "  2242.  6234. 12516.  6747.  7831. 24342.  1148.  9618. 24937. 12855.\n",
            " 16364.  3418.  3913.   380.   663.   942.]\n"
          ]
        },
        {
          "output_type": "execute_result",
          "data": {
            "text/plain": [
              "Text(0.5, 1.0, 'Frequency of First Letters')"
            ]
          },
          "metadata": {},
          "execution_count": 8
        },
        {
          "output_type": "display_data",
          "data": {
            "text/plain": [
              "<Figure size 640x480 with 1 Axes>"
            ],
            "image/png": "[encoded data removed]"
          },
          "metadata": {}
        }
      ]
    },
    {
      "cell_type": "code",
      "source": [
        "#Question 8\n",
        "#What are the six longest words in the word list?\n",
        "\n",
        "lengthList = []\n",
        "\n",
        "#The sorted function sorts all the terms in the list by smallest to largest in a variety of different ways\n",
        "sortedList = sorted(alpha_list, key=len)\n",
        "six_longest = sortedList[-6:]\n",
        "print(six_longest)\n",
        "\n",
        "\n",
        "\n"
      ],
      "metadata": {
        "id": "bkASGoKrEbyZ",
        "outputId": "b9080c5a-0c7a-4206-8e03-5bf53bb30314",
        "colab": {
          "base_uri": "https://localhost:8080/"
        }
      },
      "execution_count": 24,
      "outputs": [
        {
          "output_type": "stream",
          "name": "stdout",
          "text": [
            "['formaldehydesulphoxylate', 'pathologicopsychological', 'scientificophilosophical', 'tetraiodophenolphthalein', 'thyroparathyroidectomize', 'antidisestablishmentarianism']\n"
          ]
        }
      ]
    },
    {
      "cell_type": "code",
      "source": [
        "#Question 9\n",
        "#Make a histogram of the number of words of each length.\n",
        "#Again, give the plot a title and label the axes. What is the most common length of a word in the wordlist?\n",
        "\n",
        "#28 is the length of the longest word\n",
        "x_axis = [m for m in range(1,29)]\n",
        "y_axis = np.zeros(28)\n",
        "y_axis = np.array(y_axis)\n",
        "\n",
        "#for loop is for\n",
        "for words in wordlist:\n",
        "  length = len(words)\n",
        "  if length <= 28:\n",
        "    y_axis[length - 1] += 1\n",
        "\n",
        "print(x_axis)\n",
        "y_axis\n",
        "\n",
        "#outputs bar graph. We couldn't get the .hist function to work.\n",
        "plt.bar(x_axis,y_axis,color = \"g\")\n",
        "plt.xlabel(\"Length of Word\")\n",
        "plt.ylabel(\"Frequency\")\n",
        "plt.title(\"The Frequency of Different Lengths of Words\")\n"
      ],
      "metadata": {
        "id": "ZJ33SRJKEc-M",
        "outputId": "b9269f0b-a065-4545-d675-9ba49c1c9350",
        "colab": {
          "base_uri": "https://localhost:8080/",
          "height": 508
        }
      },
      "execution_count": 45,
      "outputs": [
        {
          "output_type": "stream",
          "name": "stdout",
          "text": [
            "[1, 2, 3, 4, 5, 6, 7, 8, 9, 10, 11, 12, 13, 14, 15, 16, 17, 18, 19, 20, 21, 22, 23, 24, 25, 26, 27, 28]\n"
          ]
        },
        {
          "output_type": "execute_result",
          "data": {
            "text/plain": [
              "Text(0.5, 1.0, 'The Frequency of Different Lengths of Words')"
            ]
          },
          "metadata": {},
          "execution_count": 45
        },
        {
          "output_type": "display_data",
          "data": {
            "text/plain": [
              "<Figure size 640x480 with 1 Axes>"
            ],
            "image/png": "[encoded data removed]"
          },
          "metadata": {}
        }
      ]
    },
    {
      "cell_type": "code",
      "source": [
        "#Question 10\n",
        "#Finally, before you submit your notebook, go back and clean it up, remove unnecessary code, add text explanations and comments where appropriate, and so on.\n",
        "#Make it as easy as possible for us to read.\n"
      ],
      "metadata": {
        "id": "sRv0AO1REelT"
      },
      "execution_count": null,
      "outputs": []
    },
    {
      "cell_type": "code",
      "source": [
        "#Question 11\n",
        "#How many words contain both letters v and a? What about both w and l?\n",
        "#The letters don't have to be next to each other or in the order I gave them, just anywhere in the word.\n",
        "#How many times do you have to loop through the word list to answer this question? How long does it take to run?\n",
        "#This should appear in a tiny font under the green checkmark next to the \"run\" button after the code finishes (without errors, of course).\n",
        "\n",
        "AQlist = 0\n",
        "WLlist = 0\n",
        "\n",
        "for words in wordlist:\n",
        "  if \"v\"in words and \"a\" in words:\n",
        "    AQlist += 1\n",
        "\n",
        "print(AQlist)\n",
        "\n",
        "for words in wordlist:\n",
        "  if \"w\"in words and \"l\" in words:\n",
        "    WLlist += 1\n",
        "\n",
        "WLlist\n",
        "\n",
        "\n",
        "#We have to loop through the word list just once for each set of levers\n",
        "#It took 0 seconds (or less than 1 second)"
      ],
      "metadata": {
        "id": "tnNU-ymbTXSE",
        "outputId": "268cc5cb-6c33-42a2-d3c1-5dfc52bda83d",
        "colab": {
          "base_uri": "https://localhost:8080/"
        }
      },
      "execution_count": 50,
      "outputs": [
        {
          "output_type": "stream",
          "name": "stdout",
          "text": [
            "11347\n"
          ]
        },
        {
          "output_type": "execute_result",
          "data": {
            "text/plain": [
              "4822"
            ]
          },
          "metadata": {},
          "execution_count": 50
        }
      ]
    },
    {
      "cell_type": "code",
      "source": [
        "from collections import Counter\n",
        "# #BONUS!\n",
        "# What is the pair of letters that appear in the most words? How many words contain both those letters?\n",
        "# In other words, in the previous problem, you counted the words for two separate pairs, v,a and w,l.\n",
        "# I'm now asking, out of all possible pairs, which pair would give the largest answer, and what that number is.\n",
        "# Answer the same questions for the fewest words: what pair of letters is contained in the fewest words, and how many words are those two letters contained in?\n",
        "\n",
        "mostFrequent = Counter()\n",
        "leastFrequent = Counter()\n",
        "\n",
        "for words in wordlist:\n",
        "  #extract all possible pairs of letters from a word before going to the next word\n",
        "  pairs = [words[i:i+2] for i in range(len(words)-1)]\n",
        "\n",
        "  #the update function is specific to iterable data types (like dictionaries) and updates the count of something in a dictionary\n",
        "  mostFrequent.update(pairs)\n",
        "  leastFrequent.update(pairs)\n",
        "\n",
        "print(pairs)\n",
        "\n",
        "\n",
        "\n"
      ],
      "metadata": {
        "id": "YkOQ1h6IBQ17",
        "outputId": "62e814a7-eea1-4bf6-ef21-6ed0b006e879",
        "colab": {
          "base_uri": "https://localhost:8080/"
        }
      },
      "execution_count": 51,
      "outputs": [
        {
          "output_type": "stream",
          "name": "stdout",
          "text": [
            "['on', 'nt', 'to', 'og', 'ge', 'en', 'ni', 'is', 'st']\n"
          ]
        }
      ]
    }
  ]
}