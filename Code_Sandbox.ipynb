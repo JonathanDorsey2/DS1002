{
  "nbformat": 4,
  "nbformat_minor": 0,
  "metadata": {
    "colab": {
      "provenance": [],
      "toc_visible": true,
      "authorship_tag": "ABX9TyMCc3uBo5F4RDOd7vLQHKtU",
      "include_colab_link": true
    },
    "kernelspec": {
      "name": "python3",
      "display_name": "Python 3"
    },
    "language_info": {
      "name": "python"
    }
  },
  "cells": [
    {
      "cell_type": "markdown",
      "metadata": {
        "id": "view-in-github",
        "colab_type": "text"
      },
      "source": [
        "<a href=\"https://colab.research.google.com/github/JonathanDorsey2/DS1002/blob/main/Code_Sandbox.ipynb\" target=\"_parent\"><img src=\"https://colab.research.google.com/assets/colab-badge.svg\" alt=\"Open In Colab\"/></a>"
      ]
    },
    {
      "cell_type": "code",
      "execution_count": null,
      "metadata": {
        "colab": {
          "base_uri": "https://localhost:8080/"
        },
        "id": "unyVNWnuYfDT",
        "outputId": "a248ba7a-ce52-4177-8e56-0cca5c37713e"
      },
      "outputs": [
        {
          "output_type": "stream",
          "name": "stdout",
          "text": [
            "what is your rating?\n",
            "5\n",
            "<class 'int'>\n"
          ]
        }
      ],
      "source": [
        "print(\"what is your rating?\")\n",
        "response = int(input())\n",
        "print(type(response))"
      ]
    },
    {
      "cell_type": "markdown",
      "source": [
        "## The **Try** and **Except** keys."
      ],
      "metadata": {
        "id": "IK0ksmOoaB2V"
      }
    },
    {
      "cell_type": "code",
      "source": [
        "print(\"what is your rating?\")\n",
        "response = input()\n",
        "\n",
        "# the \"try\" keyword only works when paired with the \"except\" keyword\n",
        "\n",
        "\n",
        "try:\n",
        "  if int(response) <= 10 and int(response) >= 1:\n",
        "    print(\"This is between 1 and 10\")\n",
        "  else:\n",
        "    print(\"Pick a different number\")\n",
        "except:\n",
        "  print(\"invalid input\")"
      ],
      "metadata": {
        "colab": {
          "base_uri": "https://localhost:8080/"
        },
        "id": "U63-lpRwZG_H",
        "outputId": "5d18dc8f-38a7-43f6-8fe4-ac1ff1d0fb10"
      },
      "execution_count": null,
      "outputs": [
        {
          "output_type": "stream",
          "name": "stdout",
          "text": [
            "what is your rating?\n",
            "3.5\n",
            "invalid input\n"
          ]
        }
      ]
    },
    {
      "cell_type": "markdown",
      "source": [
        "## The **While** Loop"
      ],
      "metadata": {
        "id": "EyQOokYWdIj3"
      }
    },
    {
      "cell_type": "code",
      "source": [
        "print(\"what is your rating?\")\n",
        "response = input()\n",
        "\n",
        "stop = False\n",
        "\n",
        "while stop == False:\n",
        "  try:\n",
        "    if int(response) <= 10 and int(response) >= 1:\n",
        "      print(\"This is between 1 and 10\")\n",
        "      stop == True\n",
        "    else:\n",
        "      print(\"Pick a different number\")\n",
        "  except:\n",
        "  print(\"invalid input\")"
      ],
      "metadata": {
        "id": "geVdUOL8dnHh"
      },
      "execution_count": null,
      "outputs": []
    }
  ]
}