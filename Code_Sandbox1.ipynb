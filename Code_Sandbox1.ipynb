{
  "nbformat": 4,
  "nbformat_minor": 0,
  "metadata": {
    "colab": {
      "provenance": [],
      "toc_visible": true,
      "authorship_tag": "ABX9TyNYrmNPy0JFwlBOA3aFIzzj",
      "include_colab_link": true
    },
    "kernelspec": {
      "name": "python3",
      "display_name": "Python 3"
    },
    "language_info": {
      "name": "python"
    }
  },
  "cells": [
    {
      "cell_type": "markdown",
      "metadata": {
        "id": "view-in-github",
        "colab_type": "text"
      },
      "source": [
        "<a href=\"https://colab.research.google.com/github/JonathanDorsey2/DS1002/blob/main/Code_Sandbox1.ipynb\" target=\"_parent\"><img src=\"https://colab.research.google.com/assets/colab-badge.svg\" alt=\"Open In Colab\"/></a>"
      ]
    },
    {
      "cell_type": "code",
      "source": [
        "import numpy as np\n",
        "from skimage import io as io\n",
        "import matplotlib.pyplot as plt\n",
        "import pandas as pd\n"
      ],
      "metadata": {
        "id": "FkIet5cdP_Z-"
      },
      "execution_count": null,
      "outputs": []
    },
    {
      "cell_type": "code",
      "execution_count": null,
      "metadata": {
        "colab": {
          "base_uri": "https://localhost:8080/"
        },
        "id": "unyVNWnuYfDT",
        "outputId": "a248ba7a-ce52-4177-8e56-0cca5c37713e"
      },
      "outputs": [
        {
          "output_type": "stream",
          "name": "stdout",
          "text": [
            "what is your rating?\n",
            "5\n",
            "<class 'int'>\n"
          ]
        }
      ],
      "source": [
        "print(\"what is your rating?\")\n",
        "response = int(input())\n",
        "print(type(response))"
      ]
    },
    {
      "cell_type": "markdown",
      "source": [
        "## The **Try** and **Except** keys."
      ],
      "metadata": {
        "id": "IK0ksmOoaB2V"
      }
    },
    {
      "cell_type": "code",
      "source": [
        "print(\"what is your rating?\")\n",
        "response = input()\n",
        "\n",
        "# the \"try\" keyword only works when paired with the \"except\" keyword\n",
        "\n",
        "\n",
        "try:\n",
        "  if int(response) <= 10 and int(response) >= 1:\n",
        "    print(\"This is between 1 and 10\")\n",
        "  else:\n",
        "    print(\"Pick a different number\")\n",
        "except:\n",
        "  print(\"invalid input\")"
      ],
      "metadata": {
        "colab": {
          "base_uri": "https://localhost:8080/"
        },
        "id": "U63-lpRwZG_H",
        "outputId": "5d18dc8f-38a7-43f6-8fe4-ac1ff1d0fb10"
      },
      "execution_count": null,
      "outputs": [
        {
          "output_type": "stream",
          "name": "stdout",
          "text": [
            "what is your rating?\n",
            "3.5\n",
            "invalid input\n"
          ]
        }
      ]
    },
    {
      "cell_type": "markdown",
      "source": [
        "## The **While** Loop"
      ],
      "metadata": {
        "id": "EyQOokYWdIj3"
      }
    },
    {
      "cell_type": "code",
      "source": [
        "print(\"what is your rating?\")\n",
        "response = input()\n",
        "\n",
        "stop = False\n",
        "\n",
        "while stop == False:\n",
        "  try:\n",
        "    if int(response) <= 10 and int(response) >= 1:\n",
        "      print(\"This is between 1 and 10\")\n",
        "      stop == True\n",
        "    else:\n",
        "      print(\"Pick a different number\")\n",
        "  except:\n",
        "    print(\"invalid input\")"
      ],
      "metadata": {
        "id": "geVdUOL8dnHh"
      },
      "execution_count": null,
      "outputs": []
    },
    {
      "cell_type": "markdown",
      "source": [
        "## Logic With Arrays and Masks for array verification with another array"
      ],
      "metadata": {
        "id": "bhgkeEmVPi4P"
      }
    },
    {
      "cell_type": "code",
      "source": [
        "a = np.array([[1,2,3],[4,5,6]])\n",
        "b = np.array([[1,2,5],[4,5,6]])\n",
        "\n",
        "print(a==b)\n",
        "\n",
        "f = a[a==b]\n",
        "# this will flatten the array into a 1D array. This is called a MASK\n",
        "print(f)\n",
        "\n",
        "c = a[a!=b]\n",
        "print(c.shape)\n",
        "print(c)\n",
        "\n",
        "if c.shape == (0,):\n",
        "  print(\"The two are equal\")\n",
        "else:\n",
        "    print(\"The two are unequal\")\n",
        "\n",
        "d = a[a!=b]\n",
        "print(d)\n",
        "len(d)\n",
        "if len(d) == 0:\n",
        "  print(\"verified\")\n",
        "else:\n",
        "  print(\"problem\")\n",
        "\n",
        "\n",
        "if (a==b).all():\n",
        "  print(\"equal\")\n",
        "else:\n",
        "  print(\"not equal\")"
      ],
      "metadata": {
        "id": "mhxNG3wPPkvt",
        "outputId": "b40703fd-d73d-449f-b4a0-33359eeafb10",
        "colab": {
          "base_uri": "https://localhost:8080/"
        }
      },
      "execution_count": null,
      "outputs": [
        {
          "output_type": "stream",
          "name": "stdout",
          "text": [
            "[[ True  True False]\n",
            " [ True  True  True]]\n",
            "[1 2 4 5 6]\n",
            "(1,)\n",
            "[3]\n",
            "The two are unequal\n",
            "[3]\n",
            "problem\n",
            "not equal\n"
          ]
        }
      ]
    },
    {
      "cell_type": "code",
      "source": [
        "ord and chr are for letters!"
      ],
      "metadata": {
        "id": "pirOn8YdTq_P"
      },
      "execution_count": null,
      "outputs": []
    }
  ]
}