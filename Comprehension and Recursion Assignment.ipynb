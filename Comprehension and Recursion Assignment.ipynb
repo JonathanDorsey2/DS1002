{
  "nbformat": 4,
  "nbformat_minor": 0,
  "metadata": {
    "colab": {
      "provenance": [],
      "include_colab_link": true
    },
    "kernelspec": {
      "name": "python3",
      "display_name": "Python 3"
    },
    "language_info": {
      "name": "python"
    }
  },
  "cells": [
    {
      "cell_type": "markdown",
      "metadata": {
        "id": "view-in-github",
        "colab_type": "text"
      },
      "source": [
        "<a href=\"https://colab.research.google.com/github/JonathanDorsey2/DS1002/blob/main/Comprehension%20and%20Recursion%20Assignment.ipynb\" target=\"_parent\"><img src=\"https://colab.research.google.com/assets/colab-badge.svg\" alt=\"Open In Colab\"/></a>"
      ]
    },
    {
      "cell_type": "markdown",
      "source": [
        "## Assignment 11\n",
        "Due Monday 15 April at noon"
      ],
      "metadata": {
        "id": "y6mGkyWrqph3"
      }
    },
    {
      "cell_type": "markdown",
      "source": [
        "### List comprehension\n",
        "\n",
        "Many of you resisted my recommendation to use list comprehensions in the previous assignment, and so my hand is forced.  You made me require it.\n",
        "\n",
        "\n",
        "Problem 1.  For each function you write below, you may assume the list being sent to the function will contain the appropriate data type.\n",
        "\n",
        "Use list comprehensions to create a function that will take a list `l` and return . . ."
      ],
      "metadata": {
        "id": "eBJulsWBngse"
      }
    },
    {
      "cell_type": "markdown",
      "source": [
        "(a) . . . a list containing the absolute value of each element of `l`"
      ],
      "metadata": {
        "id": "1h4hKDEqo5T_"
      }
    },
    {
      "cell_type": "code",
      "source": [
        "def absolutevalue(absvalue):\n",
        "  return [abs(i) for i in absvalue]\n",
        "\n",
        "absvalue = [-1,2,3,-5,-6,-1,-6]\n",
        "\n",
        "absolutevalue(absvalue)\n",
        "\n"
      ],
      "metadata": {
        "id": "LNltsHhtngLS",
        "outputId": "879f55ce-eb17-43a3-ba9f-5e1823e7e4cc",
        "colab": {
          "base_uri": "https://localhost:8080/"
        }
      },
      "execution_count": 17,
      "outputs": [
        {
          "output_type": "execute_result",
          "data": {
            "text/plain": [
              "[1, 2, 3, 5, 6, 1, 6]"
            ]
          },
          "metadata": {},
          "execution_count": 17
        }
      ]
    },
    {
      "cell_type": "markdown",
      "source": [
        "(b) . . . a list containing `True` for each even number in `l` and `False` for each odd number in `l`"
      ],
      "metadata": {
        "id": "mqIbzaTvpLCV"
      }
    },
    {
      "cell_type": "code",
      "source": [
        "def evenodd(l):\n",
        "  return [num%2 == 0 for num in l]\n",
        "\n",
        "evenodd(absvalue)"
      ],
      "metadata": {
        "id": "0OTpQFX9pK0t",
        "outputId": "94af0193-f805-4260-e039-3b727acf7a84",
        "colab": {
          "base_uri": "https://localhost:8080/"
        }
      },
      "execution_count": 20,
      "outputs": [
        {
          "output_type": "execute_result",
          "data": {
            "text/plain": [
              "[False, True, False, False, True, False, True]"
            ]
          },
          "metadata": {},
          "execution_count": 20
        }
      ]
    },
    {
      "cell_type": "markdown",
      "source": [
        "(c) . . . a list containing only the numbers in `l` that are divisible by 3"
      ],
      "metadata": {
        "id": "9yqVg2hApUY9"
      }
    },
    {
      "cell_type": "code",
      "source": [
        "def divby3(l):\n",
        "  return [num%3 ==0 for num in l]\n",
        "\n",
        "divby3(absvalue)"
      ],
      "metadata": {
        "id": "2mP_1aYZpUF4",
        "outputId": "2760dba7-65e7-40d0-8d8f-823bb135b8bb",
        "colab": {
          "base_uri": "https://localhost:8080/"
        }
      },
      "execution_count": 22,
      "outputs": [
        {
          "output_type": "execute_result",
          "data": {
            "text/plain": [
              "[False, False, True, False, True, False, True]"
            ]
          },
          "metadata": {},
          "execution_count": 22
        }
      ]
    },
    {
      "cell_type": "markdown",
      "source": [
        "(d) . . . a list containing only the words in `l` whose first and last letters are the same"
      ],
      "metadata": {
        "id": "2yClgYZupef1"
      }
    },
    {
      "cell_type": "code",
      "source": [
        "letters = ['abracadabra', 'stone', 'stones', 'miles', 'eeeke']\n",
        "def firstandlast(letters):\n",
        "    truefalse = [i for i, num in enumerate(letters) if num[0] == num[-1]]\n",
        "    return [letters[i] for i in truefalse]\n",
        "# for num in letters:\n",
        "#   print(num[0], num[-1])\n",
        "\n",
        "firstandlast(letters)\n"
      ],
      "metadata": {
        "id": "-l7XnemMpeCi",
        "outputId": "c4fcd885-8f5e-40d1-86ec-c5d5d4937a2a",
        "colab": {
          "base_uri": "https://localhost:8080/"
        }
      },
      "execution_count": 36,
      "outputs": [
        {
          "output_type": "execute_result",
          "data": {
            "text/plain": [
              "['abracadabra', 'stones', 'eeeke']"
            ]
          },
          "metadata": {},
          "execution_count": 36
        }
      ]
    },
    {
      "cell_type": "markdown",
      "source": [
        "(e) . . . a list containing the first letter of each word in `l` that ends with a vowel"
      ],
      "metadata": {
        "id": "1mqMysFKppZS"
      }
    },
    {
      "cell_type": "code",
      "source": [
        "def firstletter(vowels):\n",
        "  first = [i for i, word in enumerate(vowels) if word[-1] == 'a' or word[-1] == 'e' or word[-1] == 'i' or word[-1] == 'o'or word[-1] == 'u']\n",
        "  return [vowels[o] for o in first]\n",
        "firstletter(letters)"
      ],
      "metadata": {
        "id": "1Gi3andbppDc",
        "outputId": "90bf4836-bdc0-4b18-b771-11ed9ab9dea8",
        "colab": {
          "base_uri": "https://localhost:8080/"
        }
      },
      "execution_count": 40,
      "outputs": [
        {
          "output_type": "execute_result",
          "data": {
            "text/plain": [
              "['abracadabra', 'stone', 'eeeke']"
            ]
          },
          "metadata": {},
          "execution_count": 40
        }
      ]
    },
    {
      "cell_type": "markdown",
      "source": [
        "### Multiplication as a recursive process\n",
        "Problem 2.  Write a recursive function that computes the product of two positive integers `a` and `b` by adding `a` to itself `b` times.\n",
        "\n",
        "Hints:  \n",
        "1. if `b=1` then the product is `a`.\n",
        "2. if `b>1` then the product is what you get by adding `a` to `a * (b-1)`.\n",
        "\n",
        "Note:  the purpose of this exercise is to practice writing recursive functions.  Of course you can trivially ask for `a*b` and get the correct answer but that is worth no points.  Your function should not use any multiplications.\n"
      ],
      "metadata": {
        "id": "iV4ysawxjsiE"
      }
    },
    {
      "cell_type": "code",
      "execution_count": 46,
      "metadata": {
        "id": "wc9Y1d7ejrvH",
        "outputId": "06a817dc-6500-4275-e4c8-15fd6fac2d07",
        "colab": {
          "base_uri": "https://localhost:8080/"
        }
      },
      "outputs": [
        {
          "output_type": "execute_result",
          "data": {
            "text/plain": [
              "30"
            ]
          },
          "metadata": {},
          "execution_count": 46
        }
      ],
      "source": [
        "a = 5\n",
        "b = 6\n",
        "\n",
        "def multiplication(a,b):\n",
        "  if b == 0:\n",
        "    return 0\n",
        "  return a + multiplication(a, (b-1))\n",
        "\n",
        "multiplication(a,b)\n",
        "\n"
      ]
    },
    {
      "cell_type": "markdown",
      "source": [
        "### Division as a recursive process\n",
        "\n",
        "Problem 3:  Write a recursive function that takes two positive integers `a` and `b` and returns the quotient `q` and remainder `r` obtained when `a` is divided by `b`.\n",
        "\n",
        "Hints:  \n",
        "1. If `a<b` then what should `q` and `r` be?\n",
        "\n",
        "2. If `a>b` then think about how `q` and `r` are related to the values you would get from dividing `a-b` by `b`."
      ],
      "metadata": {
        "id": "A5xI1LxDkxn0"
      }
    },
    {
      "cell_type": "code",
      "source": [
        "a = 30\n",
        "b = 5\n",
        "\n",
        "def division(a,b):\n",
        "    q = a//b\n",
        "    if a >= b:\n",
        "      r = a%b\n",
        "    elif a < b:\n",
        "      r = b\n",
        "\n",
        "    return q, \"remainder:\",  r\n",
        "\n",
        "division(a,b)\n",
        "\n",
        "\n",
        "\n"
      ],
      "metadata": {
        "id": "_3aRmkgJkxUW",
        "outputId": "0540799b-819e-461f-ab78-bd771cd65749",
        "colab": {
          "base_uri": "https://localhost:8080/"
        }
      },
      "execution_count": 57,
      "outputs": [
        {
          "output_type": "execute_result",
          "data": {
            "text/plain": [
              "(6, 'remainder:', 0)"
            ]
          },
          "metadata": {},
          "execution_count": 57
        }
      ]
    },
    {
      "cell_type": "markdown",
      "source": [
        "### The dot product of two vectors\n",
        "\n",
        "Problem 4.  Write a recursive function `dot()` that takes two lists of numbers, of equal length, and returns the sum of the products of the elements of the same index from each list. For example, if `V=[1,2,3]` and `W=[4,5,6]` then the function should return the value $(1 \\cdot 4) + (2\\cdot 5) + (3\\cdot 6)$, which equals 32.  In physics and linear algebra, this is called the \"dot product\" of the vectors `V` and `W`.\n",
        "\n",
        "Other examples:\n",
        "```\n",
        "dot([3],[4])\n",
        "12\n",
        "\n",
        "dot([1,1,0],[2,7,17])\n",
        "9\n",
        "```\n",
        "Hints:\n",
        "1. How is `dot(V,W)` related to `dot(V[1:],W[1:])`?\n",
        "2. What should happen if the lists are empty?"
      ],
      "metadata": {
        "id": "OkBK7gvglJ3u"
      }
    },
    {
      "cell_type": "code",
      "source": [
        "list1 = [1,2,3,4,5]\n",
        "list2 = [10,11,12,13,14]\n",
        "\n",
        "\n",
        "def dot(list1,list2):\n",
        "  list3 = list1 + list2\n",
        "  sum = 0\n",
        "  for i,num in enumerate(list3):\n",
        "    sum += list3[i]+list3[-i]\n",
        "  return sum/2\n",
        "\n",
        "dot(list1, list2)"
      ],
      "metadata": {
        "id": "LZXs6lkslJqm",
        "outputId": "bde0ed97-3b21-4a55-aeec-aa9a740c8f63",
        "colab": {
          "base_uri": "https://localhost:8080/"
        }
      },
      "execution_count": 69,
      "outputs": [
        {
          "output_type": "execute_result",
          "data": {
            "text/plain": [
              "0.0"
            ]
          },
          "metadata": {},
          "execution_count": 69
        }
      ]
    }
  ]
}