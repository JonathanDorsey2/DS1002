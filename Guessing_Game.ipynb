{
  "nbformat": 4,
  "nbformat_minor": 0,
  "metadata": {
    "colab": {
      "provenance": [],
      "authorship_tag": "ABX9TyN5yQGZyG3G5teJDCiqkkt3",
      "include_colab_link": true
    },
    "kernelspec": {
      "name": "python3",
      "display_name": "Python 3"
    },
    "language_info": {
      "name": "python"
    }
  },
  "cells": [
    {
      "cell_type": "markdown",
      "metadata": {
        "id": "view-in-github",
        "colab_type": "text"
      },
      "source": [
        "<a href=\"https://colab.research.google.com/github/JonathanDorsey2/DS1002/blob/main/Guessing_Game.ipynb\" target=\"_parent\"><img src=\"https://colab.research.google.com/assets/colab-badge.svg\" alt=\"Open In Colab\"/></a>"
      ]
    },
    {
      "cell_type": "markdown",
      "source": [
        "# **This is the Coding Game**"
      ],
      "metadata": {
        "id": "TAcg3jJkF5pV"
      }
    },
    {
      "cell_type": "markdown",
      "source": [
        "First, import numpy..."
      ],
      "metadata": {
        "id": "sUvMVOBzHcJm"
      }
    },
    {
      "cell_type": "code",
      "execution_count": 121,
      "metadata": {
        "colab": {
          "base_uri": "https://localhost:8080/"
        },
        "id": "UywNjbPTFy6B",
        "outputId": "37f5b51d-e30a-4ad7-dcf6-788ff673b1ee"
      },
      "outputs": [
        {
          "name": "stdout",
          "output_type": "stream",
          "text": [
            "input number\n",
            "5\n"
          ]
        },
        {
          "output_type": "execute_result",
          "data": {
            "text/plain": [
              "str"
            ]
          },
          "metadata": {},
          "execution_count": 121
        }
      ],
      "source": [
        "import numpy as np"
      ]
    },
    {
      "cell_type": "markdown",
      "source": [
        "Then, generate a random number..."
      ],
      "metadata": {
        "id": "EpMR-PTtHksD"
      }
    },
    {
      "cell_type": "code",
      "source": [
        "randnum = abs(int(np.random.rand() * 100))\n",
        "print(randnum)\n",
        "print(\"I, the computer, have generated a number between 0 and 100...\")"
      ],
      "metadata": {
        "colab": {
          "base_uri": "https://localhost:8080/"
        },
        "id": "IWQfcD4-HrOe",
        "outputId": "e3267237-d20e-4576-ad8d-a8cc47cccca0"
      },
      "execution_count": 106,
      "outputs": [
        {
          "output_type": "stream",
          "name": "stdout",
          "text": [
            "40\n",
            "I, the computer, have generated a number between 0 and 100...\n"
          ]
        }
      ]
    },
    {
      "cell_type": "markdown",
      "source": [
        "The user then must guess what the number is..."
      ],
      "metadata": {
        "id": "U2MguElwKH2_"
      }
    },
    {
      "cell_type": "code",
      "source": [
        "import numpy as np\n",
        "\n",
        "randnum = abs(int(np.random.rand() * 100))\n",
        "print(randnum)\n",
        "print(\"I, the computer, have generated a number between 0 and 100...\")\n",
        "\n",
        "print(\"What number do you think was generated?\")\n",
        "userinput = input()\n",
        "\n",
        "def notstring():\n",
        "    while userinput != type(float):\n",
        "      print(\"You didn't input an integer bozo. Try again\")\n",
        "      userinput = input()\n",
        "    newuserinput = userinput\n",
        "\n",
        "\n",
        "notstring()\n",
        "\n",
        "\n",
        "while newuserinput != randnum:\n",
        "  if newuserinput >randnum:\n",
        "        print(\"Too high! Try again (you have to)\")\n",
        "  elif newuserinput <randnum:\n",
        "      print(\"Too low! Try again (you have to)\")\n",
        "  elif newuserinput != int(userinput) or userinput < 0:\n",
        "      print(\"The number is a positive integer. Try again...\")\n",
        "  newuserinput = input()\n",
        "  notstring()\n",
        "print(\"You got it! The game will end now :)\")\n"
      ],
      "metadata": {
        "colab": {
          "base_uri": "https://localhost:8080/",
          "height": 447
        },
        "id": "OyBM86hGKG_J",
        "outputId": "fcd5bdf0-3286-43c7-c1e8-ef7024457756"
      },
      "execution_count": 120,
      "outputs": [
        {
          "name": "stdout",
          "output_type": "stream",
          "text": [
            "30\n",
            "I, the computer, have generated a number between 0 and 100...\n",
            "What number do you think was generated?\n",
            "50\n"
          ]
        },
        {
          "output_type": "error",
          "ename": "UnboundLocalError",
          "evalue": "local variable 'userinput' referenced before assignment",
          "traceback": [
            "\u001b[0;31m---------------------------------------------------------------------------\u001b[0m",
            "\u001b[0;31mUnboundLocalError\u001b[0m                         Traceback (most recent call last)",
            "\u001b[0;32m<ipython-input-120-e5b3e72b7112>\u001b[0m in \u001b[0;36m<cell line: 17>\u001b[0;34m()\u001b[0m\n\u001b[1;32m     15\u001b[0m \u001b[0;34m\u001b[0m\u001b[0m\n\u001b[1;32m     16\u001b[0m \u001b[0;34m\u001b[0m\u001b[0m\n\u001b[0;32m---> 17\u001b[0;31m \u001b[0mnotstring\u001b[0m\u001b[0;34m(\u001b[0m\u001b[0;34m)\u001b[0m\u001b[0;34m\u001b[0m\u001b[0;34m\u001b[0m\u001b[0m\n\u001b[0m\u001b[1;32m     18\u001b[0m \u001b[0;34m\u001b[0m\u001b[0m\n\u001b[1;32m     19\u001b[0m \u001b[0;34m\u001b[0m\u001b[0m\n",
            "\u001b[0;32m<ipython-input-120-e5b3e72b7112>\u001b[0m in \u001b[0;36mnotstring\u001b[0;34m()\u001b[0m\n\u001b[1;32m      9\u001b[0m \u001b[0;34m\u001b[0m\u001b[0m\n\u001b[1;32m     10\u001b[0m \u001b[0;32mdef\u001b[0m \u001b[0mnotstring\u001b[0m\u001b[0;34m(\u001b[0m\u001b[0;34m)\u001b[0m\u001b[0;34m:\u001b[0m\u001b[0;34m\u001b[0m\u001b[0;34m\u001b[0m\u001b[0m\n\u001b[0;32m---> 11\u001b[0;31m     \u001b[0;32mwhile\u001b[0m \u001b[0muserinput\u001b[0m \u001b[0;34m!=\u001b[0m \u001b[0mtype\u001b[0m\u001b[0;34m(\u001b[0m\u001b[0mfloat\u001b[0m\u001b[0;34m)\u001b[0m\u001b[0;34m:\u001b[0m\u001b[0;34m\u001b[0m\u001b[0;34m\u001b[0m\u001b[0m\n\u001b[0m\u001b[1;32m     12\u001b[0m       \u001b[0mprint\u001b[0m\u001b[0;34m(\u001b[0m\u001b[0;34m\"You didn't input an integer bozo. Try again\"\u001b[0m\u001b[0;34m)\u001b[0m\u001b[0;34m\u001b[0m\u001b[0;34m\u001b[0m\u001b[0m\n\u001b[1;32m     13\u001b[0m       \u001b[0muserinput\u001b[0m \u001b[0;34m=\u001b[0m \u001b[0minput\u001b[0m\u001b[0;34m(\u001b[0m\u001b[0;34m)\u001b[0m\u001b[0;34m\u001b[0m\u001b[0;34m\u001b[0m\u001b[0m\n",
            "\u001b[0;31mUnboundLocalError\u001b[0m: local variable 'userinput' referenced before assignment"
          ]
        }
      ]
    },
    {
      "cell_type": "code",
      "source": [
        "print(type(userinput))\n",
        "print(type(randnum))"
      ],
      "metadata": {
        "colab": {
          "base_uri": "https://localhost:8080/"
        },
        "id": "BEEksTF7Nw2n",
        "outputId": "64795cea-2a29-42cd-834e-0ebecf17b610"
      },
      "execution_count": 108,
      "outputs": [
        {
          "output_type": "stream",
          "name": "stdout",
          "text": [
            "<class 'int'>\n",
            "<class 'int'>\n"
          ]
        }
      ]
    },
    {
      "cell_type": "markdown",
      "source": [
        "Then, calculations happen..."
      ],
      "metadata": {
        "id": "W9Pj44UrKa5n"
      }
    },
    {
      "cell_type": "code",
      "source": [
        "stop = False\n",
        "\n",
        "while stop == False:\n",
        "  if userinput == randnum:\n",
        "    print(\"You got it!\")\n",
        "    stop = True\n",
        "  elif userinput >randnum:\n",
        "      print(\"Too high! Try again (you have to)\")\n",
        "  elif userinput <randnum:\n",
        "    print(\"Too low! Try again (you have to)\")\n",
        "  elif userinput != int(userinput) or userinput < 0:\n",
        "    print(\"The number is a positive integer. Try again...\")\n",
        "  elif\n",
        "\n",
        "  userinput = int(input())\n",
        "\n",
        "\n",
        ""
      ],
      "metadata": {
        "colab": {
          "base_uri": "https://localhost:8080/",
          "height": 357
        },
        "id": "75g_icETKd-_",
        "outputId": "5417af9c-c93d-4189-ff46-6413a1dad18b"
      },
      "execution_count": 109,
      "outputs": [
        {
          "name": "stdout",
          "output_type": "stream",
          "text": [
            "Too high! Try again (you have to)\n",
            "60\n",
            "Too high! Try again (you have to)\n",
            "60\n",
            "Too high! Try again (you have to)\n",
            "string\n"
          ]
        },
        {
          "output_type": "error",
          "ename": "ValueError",
          "evalue": "invalid literal for int() with base 10: 'string'",
          "traceback": [
            "\u001b[0;31m---------------------------------------------------------------------------\u001b[0m",
            "\u001b[0;31mValueError\u001b[0m                                Traceback (most recent call last)",
            "\u001b[0;32m<ipython-input-109-2142e86dace1>\u001b[0m in \u001b[0;36m<cell line: 3>\u001b[0;34m()\u001b[0m\n\u001b[1;32m     12\u001b[0m     \u001b[0mprint\u001b[0m\u001b[0;34m(\u001b[0m\u001b[0;34m\"The number is a positive integer. Try again...\"\u001b[0m\u001b[0;34m)\u001b[0m\u001b[0;34m\u001b[0m\u001b[0;34m\u001b[0m\u001b[0m\n\u001b[1;32m     13\u001b[0m \u001b[0;34m\u001b[0m\u001b[0m\n\u001b[0;32m---> 14\u001b[0;31m   \u001b[0muserinput\u001b[0m \u001b[0;34m=\u001b[0m \u001b[0mint\u001b[0m\u001b[0;34m(\u001b[0m\u001b[0minput\u001b[0m\u001b[0;34m(\u001b[0m\u001b[0;34m)\u001b[0m\u001b[0;34m)\u001b[0m\u001b[0;34m\u001b[0m\u001b[0;34m\u001b[0m\u001b[0m\n\u001b[0m\u001b[1;32m     15\u001b[0m \u001b[0;34m\u001b[0m\u001b[0m\n\u001b[1;32m     16\u001b[0m \u001b[0;34m\u001b[0m\u001b[0m\n",
            "\u001b[0;31mValueError\u001b[0m: invalid literal for int() with base 10: 'string'"
          ]
        }
      ]
    }
  ]
}