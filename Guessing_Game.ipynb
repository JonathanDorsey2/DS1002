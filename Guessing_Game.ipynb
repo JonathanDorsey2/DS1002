{
  "nbformat": 4,
  "nbformat_minor": 0,
  "metadata": {
    "colab": {
      "provenance": [],
      "authorship_tag": "ABX9TyPqR6UeyVqUr9yMui1mRIhG",
      "include_colab_link": true
    },
    "kernelspec": {
      "name": "python3",
      "display_name": "Python 3"
    },
    "language_info": {
      "name": "python"
    }
  },
  "cells": [
    {
      "cell_type": "markdown",
      "metadata": {
        "id": "view-in-github",
        "colab_type": "text"
      },
      "source": [
        "<a href=\"https://colab.research.google.com/github/JonathanDorsey2/DS1002/blob/main/Guessing_Game.ipynb\" target=\"_parent\"><img src=\"https://colab.research.google.com/assets/colab-badge.svg\" alt=\"Open In Colab\"/></a>"
      ]
    },
    {
      "cell_type": "markdown",
      "source": [
        "# **This is the Coding Game**"
      ],
      "metadata": {
        "id": "TAcg3jJkF5pV"
      }
    },
    {
      "cell_type": "code",
      "source": [
        "# first import numpy to use the random function\n",
        "import numpy as np\n",
        "\n",
        "# then generate a random number\n",
        "randnum = np.random.rand() * 100\n",
        "randnum = int(randnum)\n",
        "\n",
        "print(\"The computer has generated a random number from 0 - 99...\")\n",
        "print(\"Can you guess it?\")\n",
        "print()\n",
        "\n",
        "\n",
        "#To make sure the response is first not a string, and then not a float, and then make it an integer\n",
        "stop = False\n",
        "\n",
        "while stop == False:\n",
        "  # get the user to start guessing the number\n",
        "  print(\"Choose a number between 0 and 99...\")\n",
        "  userresponse = input()\n",
        "  try:\n",
        "    if int(userresponse) == randnum:\n",
        "      print(\"You got it! You are now free to leave the game and enjoy the outside world :)\")\n",
        "      stop = True\n",
        "    elif int(userresponse) < randnum:\n",
        "      print(\"Your answer is too low. Try again.\")\n",
        "    elif int(userresponse) > randnum:\n",
        "      print(\"Your answer is too high. Try again.\")\n",
        "\n",
        "  # the except captures every input that isn't an integer\n",
        "  except:\n",
        "    print(\"You have to enter an integer. Any other input will be invalid.\")"
      ],
      "metadata": {
        "id": "AqS45xhEszCt",
        "outputId": "45fd10a9-0fbf-42c7-9ca2-dfcb6b029360",
        "colab": {
          "base_uri": "https://localhost:8080/"
        }
      },
      "execution_count": 5,
      "outputs": [
        {
          "output_type": "stream",
          "name": "stdout",
          "text": [
            "The computer has generated a random number from 0 - 99...\n",
            "Can you guess it?\n",
            "\n",
            "Choose a number between 0 and 99...\n",
            "50\n",
            "Your answer is too low. Try again.\n",
            "Choose a number between 0 and 99...\n",
            "75\n",
            "Your answer is too low. Try again.\n",
            "Choose a number between 0 and 99...\n",
            "87\n",
            "Your answer is too low. Try again.\n",
            "Choose a number between 0 and 99...\n",
            "94\n",
            "Your answer is too high. Try again.\n",
            "Choose a number between 0 and 99...\n",
            "91\n",
            "Your answer is too low. Try again.\n",
            "Choose a number between 0 and 99...\n",
            "93\n",
            "Your answer is too high. Try again.\n",
            "Choose a number between 0 and 99...\n",
            "92\n",
            "You got it! You are now free to leave the game and enjoy the outside world :)\n"
          ]
        }
      ]
    }
  ]
}